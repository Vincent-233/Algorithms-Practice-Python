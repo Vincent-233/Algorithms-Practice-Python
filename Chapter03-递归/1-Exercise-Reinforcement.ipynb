{
 "cells": [
  {
   "cell_type": "markdown",
   "metadata": {},
   "source": [
    "### R-4.1\n",
    "Describe a recursive algorithm for finding the maximum element in a sequence, S, of n elements. What is your running time and space usage?<br>\n",
    "译：实现Max函数的递归版本。（下面两种方式，一个是常规递归，一个是尾递归）"
   ]
  },
  {
   "cell_type": "code",
   "execution_count": 14,
   "metadata": {},
   "outputs": [],
   "source": [
    "def get_max(S, n):\n",
    "    \"\"\"return max data in first n elements\"\"\"\n",
    "    if n == 0:\n",
    "        return S[n]\n",
    "    max_data = get_max(S,n - 1)\n",
    "    return max_data if max_data > S[n] else S[n]"
   ]
  },
  {
   "cell_type": "code",
   "execution_count": 17,
   "metadata": {},
   "outputs": [],
   "source": [
    "def get_max_tail(S, n, max_data):\n",
    "    \"\"\"return max data in first n elements\n",
    "    tail recursion\n",
    "    \"\"\"\n",
    "    if n == 0:\n",
    "        return max_data if max_data > S[n] else S[n]\n",
    "    max_data = max_data if max_data > S[n - 1] else S[n - 1]\n",
    "    return get_max_tail(S, n - 1, max_data)"
   ]
  },
  {
   "cell_type": "code",
   "execution_count": 47,
   "metadata": {},
   "outputs": [
    {
     "name": "stdout",
     "output_type": "stream",
     "text": [
      "300\n",
      "300\n"
     ]
    }
   ],
   "source": [
    "# test it\n",
    "S = [1,2,300,4,5]\n",
    "print(get_max(S,len(S) - 1))\n",
    "print(get_max_tail(S,len(S) - 1, S[len(S) - 1]))"
   ]
  },
  {
   "cell_type": "markdown",
   "metadata": {},
   "source": [
    "### R-4.2 \n",
    "Draw the recursion trace for the computation of power(2,5), using the\n",
    "traditional function implemented in Code Fragment 4.11.<br>\n",
    "译：画出实现power(x,n)的递归调用过程\n",
    "```\n",
    "大致是如下过程，返回的\n",
    "power(2, 5) -> 2 * power(2,4)\n",
    "    power(2, 4) -> 2 * power(2,3)\n",
    "        power(2, 3) -> 2 * power(2,2)\n",
    "            power(2, 2) -> 2 * power(2,1)\n",
    "                power(2, 1) -> 2 * power(2,0)\n",
    "                    power(2,0) = 1\n",
    "                power(2, 1) = 2\n",
    "            power(2, 2) = 4\n",
    "        power(2, 3) = 8\n",
    "    power(2, 4) = 16\n",
    "power(2, 5) = 32\n",
    "```"
   ]
  },
  {
   "cell_type": "markdown",
   "metadata": {},
   "source": [
    "### R-4.6 \n",
    "Describe a recursive function for computing the n th Harmonic number,$\\sum\\limits_{i=1}^n$1/i.<br>\n",
    "译：给出$\\sum\\limits_{i=1}^n$1/i的递归描述.<br>\n",
    "如下：\n",
    "1.  n == 1 then return 1\n",
    "1.  f(n) = 1/n + f(n - 1)\n"
   ]
  },
  {
   "cell_type": "markdown",
   "metadata": {},
   "source": [
    "### R-4.7 \n",
    "Describe a recursive function for converting a string of digits into the in-\n",
    "teger it represents. For example, 13531 represents the integer 13,531.<br>\n",
    "译：将字符串转化为整数，描述并实现对应的递归算法。"
   ]
  },
  {
   "cell_type": "markdown",
   "metadata": {},
   "source": [
    "描述：f(str,n) = str[0]*10^n + f(str,n-1)<br>\n",
    "实现："
   ]
  },
  {
   "cell_type": "code",
   "execution_count": 51,
   "metadata": {},
   "outputs": [
    {
     "name": "stdout",
     "output_type": "stream",
     "text": [
      "123456789444\n"
     ]
    }
   ],
   "source": [
    "def char_to_dig(char):\n",
    "    return ord(char) - 48\n",
    "\n",
    "def str_to_dig_sub(string,length):\n",
    "    if length == 0:\n",
    "        return char_to_dig(string[0])\n",
    "    return char_to_dig(string[0])*10**length + str_to_dig_sub(string[1:],length - 1)\n",
    "\n",
    "def str_to_dig(string):\n",
    "    return str_to_dig_sub(string,len(string) - 1)\n",
    "\n",
    "if __name__ == \"__main__\":\n",
    "    string = '123456789444'\n",
    "    print(str_to_dig(string))"
   ]
  }
 ],
 "metadata": {
  "kernelspec": {
   "display_name": "Python 3",
   "language": "python",
   "name": "python3"
  },
  "language_info": {
   "codemirror_mode": {
    "name": "ipython",
    "version": 3
   },
   "file_extension": ".py",
   "mimetype": "text/x-python",
   "name": "python",
   "nbconvert_exporter": "python",
   "pygments_lexer": "ipython3",
   "version": "3.7.6"
  }
 },
 "nbformat": 4,
 "nbformat_minor": 4
}
