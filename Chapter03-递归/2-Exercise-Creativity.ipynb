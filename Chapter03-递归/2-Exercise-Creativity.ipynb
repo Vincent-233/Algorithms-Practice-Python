{
 "cells": [
  {
   "cell_type": "markdown",
   "metadata": {},
   "source": [
    "### C-4.9\n",
    "Write a short recursive Python function that finds the minimum and max-mum values in a sequence without using any loops.<br>\n",
    "译：不用任何循环，写一个递归函数，找出一个序列里的最大和最小值"
   ]
  },
  {
   "cell_type": "code",
   "execution_count": 1,
   "metadata": {},
   "outputs": [
    {
     "name": "stdout",
     "output_type": "stream",
     "text": [
      "(1, 734)\n"
     ]
    }
   ],
   "source": [
    "def get_max_min(S, n):\n",
    "    \"\"\"return max data in first n elements\"\"\"\n",
    "    if n == 0:\n",
    "        return S[n],S[n]\n",
    "    min_data,max_data = get_max_min(S,n - 1)\n",
    "    max_data = max_data if max_data > S[n] else S[n]\n",
    "    min_data = min_data if min_data < S[n] else S[n]\n",
    "    return min_data,max_data\n",
    "\n",
    "if __name__ == \"__main__\":\n",
    "    S = [1,325,6,6,5,734,523,14]\n",
    "    print(get_max_min(S,len(S) - 1))"
   ]
  },
  {
   "cell_type": "markdown",
   "metadata": {},
   "source": [
    "### C-4.10 \n",
    "Describe a recursive algorithm to compute the integer part of the base-two\n",
    "logarithm of n using only addition and integer division<br>\n",
    "译：描述用递归实现以2为底的对数函数实现过程，仅使用加法和整除运算。<br>"
   ]
  },
  {
   "cell_type": "markdown",
   "metadata": {},
   "source": [
    "由于 $\\lfloor log_2n \\rfloor$ = 1 + $\\lfloor log_2n/2 \\rfloor$<br>\n",
    "所以 f(n) = 1 + f(n/2), f(1) = 0, f(2) = 1"
   ]
  },
  {
   "cell_type": "markdown",
   "metadata": {},
   "source": [
    "### C-4.11 \n",
    "Describe an efficient recursive function for solving the element unique-\n",
    "ness problem, which runs in time that is at most O(n2) in the worst case\n",
    "without using sorting.<br>\n",
    "译：描述用递归的方法判断列表元素是否唯一。"
   ]
  },
  {
   "cell_type": "markdown",
   "metadata": {},
   "source": [
    "- ls[0:n]不重复，相当于ls[1:n]不重复，且所有元素与ls[0]不相等\n",
    "- n = 1时，唯一"
   ]
  },
  {
   "cell_type": "markdown",
   "metadata": {},
   "source": [
    "### C-4.12 \n",
    "Give a recursive algorithm to compute the product of two positive integers,\n",
    "m and n, using only addition and subtraction.<br>\n",
    "译：给出一个实现两个整数m和n相乘的递归算法，仅使用加减法。"
   ]
  },
  {
   "cell_type": "markdown",
   "metadata": {},
   "source": [
    "递归关系如下：\n",
    "- f(m, n) = m + f(m, n - 1)\n",
    "- f(m, 1) = m"
   ]
  },
  {
   "cell_type": "markdown",
   "metadata": {},
   "source": [
    "### C-4.14 \n",
    "In the Towers of Hanoi puzzle, we are given a platform with three pegs, a,\n",
    "b, and c, sticking out of it. On peg a is a stack of n disks, each larger than\n",
    "the next, so that the smallest is on the top and the largest is on the bottom.\n",
    "The puzzle is to move all the disks from peg a to peg c, moving one disk\n",
    "at a time, so that we never place a larger disk on top of a smaller one.\n",
    "See Figure 4.15 for an example of the case n = 4. Describe a recursive\n",
    "algorithm for solving the Towers of Hanoi puzzle for arbitrary n. <br>\n",
    "译：汉诺塔，有三个桩a、b、c，a桩上有n个碟子，每个碟子比相邻的上一个要大，所以最小的在顶部，最大的在底部。<br>\n",
    "现在需要将a上的碟子移到c上，移动过程中要始终保持大碟在下，小碟在上，一次只能移动一个碟。<br>\n",
    "请给出递归算法描述。"
   ]
  },
  {
   "cell_type": "markdown",
   "metadata": {},
   "source": [
    "描述：\n",
    "- n = 1时，直接从a移到c，记为 a -> c\n",
    "- n = 2时，需要借助b做为中转，步骤为 a -> b、a -> c、b -> c\n",
    "- n > 2时，前 n-1 个碟移到b，a -> c，然后将b上的 n-1 个碟移到c\n",
    "\n",
    "移动步数方面，$a_1=1,a_2=2,a_n=2a_{n-1}+1$，最终公式为$a_n=2^n+1$"
   ]
  },
  {
   "cell_type": "code",
   "execution_count": 17,
   "metadata": {},
   "outputs": [
    {
     "name": "stdout",
     "output_type": "stream",
     "text": [
      "a -> b\n",
      "a -> c\n",
      "b -> c\n",
      "a -> b\n",
      "c -> a\n",
      "c -> b\n",
      "a -> b\n",
      "a -> c\n",
      "b -> c\n",
      "b -> a\n",
      "c -> a\n",
      "b -> c\n",
      "a -> b\n",
      "a -> c\n",
      "b -> c\n"
     ]
    }
   ],
   "source": [
    "def hanoi(n,mv_from,mv_to,mid):\n",
    "    \"\"\"move n disks from mv_from to mv_to,can use mid as bridge\"\"\"\n",
    "    if n == 1:\n",
    "        print('{} -> {}'.format(mv_from,mv_to))\n",
    "    else:\n",
    "        hanoi(n - 1,mv_from,mid,mv_to)\n",
    "        print('{} -> {}'.format(mv_from,mv_to))\n",
    "        hanoi(n - 1,mid,mv_to,mv_from)\n",
    "\n",
    "if __name__ == \"__main__\":\n",
    "    hanoi(4,'a','c','b')"
   ]
  },
  {
   "cell_type": "markdown",
   "metadata": {},
   "source": [
    "### C-4.15 \n",
    "Write a recursive function that will output all the subsets of a set of n elements (without repeating any subsets).<br>\n",
    "译：给出求含n个元素的集合的所有子集的递归算法描述。"
   ]
  },
  {
   "cell_type": "markdown",
   "metadata": {},
   "source": [
    "- 描述：\n",
    "    - a[0:n]所有子集 = a[1:n]的所有子集（不含a[0]） + {a[0] + a[1:n]的所有子集（含a[0]）}\n",
    "- 举例：\n",
    "    - subset(2,3) = subset(3) + {2 + subset(3)} \n",
    "                   = {[],[3]} + {2 + ([],[3])} \n",
    "                   = {[],[3]} + {[2],[2,3]} \n",
    "                   = {[],[2],[3],[2,3]} "
   ]
  },
  {
   "cell_type": "code",
   "execution_count": 279,
   "metadata": {},
   "outputs": [
    {
     "name": "stdout",
     "output_type": "stream",
     "text": [
      "[]\n",
      "[1]\n",
      "[2]\n",
      "[3]\n",
      "[4]\n",
      "[1, 2]\n",
      "[1, 3]\n",
      "[2, 3]\n",
      "[1, 4]\n",
      "[2, 4]\n",
      "[3, 4]\n",
      "[1, 2, 3]\n",
      "[1, 2, 4]\n",
      "[1, 3, 4]\n",
      "[2, 3, 4]\n",
      "[1, 2, 3, 4]\n"
     ]
    }
   ],
   "source": [
    "def subset_sub(ls, index, max_index, result):\n",
    "    \"\"\"put all subsets of ls[index:max_index] to result\"\"\"\n",
    "    if index == max_index: # if last one, add it to result \n",
    "        result.append(ls[index:]) \n",
    "        return\n",
    "    subset_sub(ls, index + 1, max_index, result) # subset of ls[index + 1：]\n",
    "    for x in list(result): # add ls[index] to every element in result\n",
    "        y = list(x) # another list\n",
    "        y.append(ls[index])\n",
    "        result.append(y)\n",
    "\n",
    "def subset(ls):\n",
    "    if len(ls) == 0:\n",
    "        return [[]]\n",
    "    result = [[]]\n",
    "    ls.reverse()\n",
    "    subset_sub(ls, 0, len(ls)-1, result)\n",
    "    result.sort(key = len)\n",
    "    return result\n",
    "\n",
    "if __name__ == \"__main__\":\n",
    "    ls = [1,2,3,4]\n",
    "    result = subset(ls)\n",
    "    for r in result:\n",
    "        print(r)"
   ]
  },
  {
   "cell_type": "markdown",
   "metadata": {},
   "source": [
    "长度为3的集合的所有子集，相当于根据000,001,010,011 ... 111这样的掩码序列，输出对应的元素，所以问题转化为了生成所有掩码序列。<br>\n",
    "MaskCode(a[0:n]) = (1 + MaskCode(a[1:n]) + (0 + MaskCode(a[1:n])<br>\n",
    "递归依次设置每一位的0或1的状态，代码如下："
   ]
  },
  {
   "cell_type": "code",
   "execution_count": 265,
   "metadata": {},
   "outputs": [
    {
     "name": "stdout",
     "output_type": "stream",
     "text": [
      "[]\n",
      "[4]\n",
      "[3]\n",
      "[2]\n",
      "[1]\n",
      "[3, 4]\n",
      "[2, 4]\n",
      "[2, 3]\n",
      "[1, 4]\n",
      "[1, 3]\n",
      "[1, 2]\n",
      "[2, 3, 4]\n",
      "[1, 3, 4]\n",
      "[1, 2, 4]\n",
      "[1, 2, 3]\n",
      "[1, 2, 3, 4]\n"
     ]
    }
   ],
   "source": [
    "def subset_mask(index, max_index, working_set,mask_set):\n",
    "    \"\"\"put all possible 0/1 mask code of ls[index:max_index] to mask_set\"\"\"\n",
    "    if index > max_index:\n",
    "        mask_set.append(list(working_set))\n",
    "    else:\n",
    "        working_set[index] = 0\n",
    "        subset_mask(index + 1, max_index, working_set, mask_set)\n",
    "        working_set[index] = 1\n",
    "        subset_mask(index + 1, max_index, working_set, mask_set)\n",
    "\n",
    "def subset(ls):\n",
    "    \"\"\"generate subsets according to mask codes\"\"\"\n",
    "    result = []\n",
    "    mask_set = []\n",
    "    working_set = [0] * len(ls)\n",
    "    subset_mask(0,len(working_set) - 1,working_set,mask_set)\n",
    "    for mask in mask_set:\n",
    "        result.append([j for i,j in zip(mask,ls) if i])\n",
    "    result.sort(key = len)\n",
    "    return result\n",
    "\n",
    "if __name__ == \"__main__\":\n",
    "    ls = [1, 2 ,3 ,4]\n",
    "    result = subset(ls)\n",
    "    for r in result:\n",
    "        print(r)"
   ]
  },
  {
   "cell_type": "markdown",
   "metadata": {},
   "source": [
    "生成掩码的过程也可以借用二进制的形式，比如n位掩码，就是0到2^n-1这些数字的二进制形式，代码如下："
   ]
  },
  {
   "cell_type": "code",
   "execution_count": 266,
   "metadata": {},
   "outputs": [
    {
     "name": "stdout",
     "output_type": "stream",
     "text": [
      "[]\n",
      "[1]\n",
      "[2]\n",
      "[3]\n",
      "[4]\n",
      "[1, 2]\n",
      "[1, 3]\n",
      "[1, 4]\n",
      "[2, 3]\n",
      "[2, 4]\n",
      "[3, 4]\n",
      "[1, 2, 3]\n",
      "[1, 2, 4]\n",
      "[1, 3, 4]\n",
      "[2, 3, 4]\n",
      "[1, 2, 3, 4]\n"
     ]
    }
   ],
   "source": [
    "def subset_mask(length):\n",
    "    \"\"\"return all possible 0/1 with length \"\"\"\n",
    "    mask_set = []\n",
    "    num = 2 ** length - 1 # max mask code in decimal mode\n",
    "    while num >= 0:\n",
    "        mask_set.append(str(bin(num))[2:].zfill(length))\n",
    "        num -= 1\n",
    "    return mask_set\n",
    "\n",
    "def subset(ls):\n",
    "    \"\"\"generate subsets according to mask codes\"\"\"\n",
    "    result = []\n",
    "    mask_set = subset_mask(len(ls))\n",
    "    for mask in mask_set:\n",
    "        result.append([j for i,j in zip(mask,ls) if i == '1'])\n",
    "    result.sort(key = len)\n",
    "    return result\n",
    "\n",
    "if __name__ == \"__main__\":\n",
    "    ls = [1, 2, 3, 4]\n",
    "    result = subset(ls)\n",
    "    for r in result:\n",
    "        print(r)"
   ]
  },
  {
   "cell_type": "markdown",
   "metadata": {},
   "source": [
    "### C-4.16\n",
    "Write a short recursive Python function that takes a character string s and outputs its reverse. For example, the reverse of 'pots&pans' would be 'snap&stop'.<br>\n",
    "译：写一简短函数，接收一个字符串s然后输入它的反转形式，例如'pots&pans'的反转是'snap&stop'\n",
    "\n",
    "递归描述： 整个字符串反转 = 第一个和最后一个元素交换，再将中间字符串反转"
   ]
  },
  {
   "cell_type": "code",
   "execution_count": 12,
   "metadata": {},
   "outputs": [
    {
     "name": "stdout",
     "output_type": "stream",
     "text": [
      "a\n",
      "ba\n",
      "cba\n",
      "snap&stop\n",
      "dc&&ba\n"
     ]
    }
   ],
   "source": [
    "def reverse(s):\n",
    "    if len(s) == 1:\n",
    "        return s\n",
    "    if len(s) == 2:\n",
    "        return s[1] + s[0]\n",
    "    return s[-1] + reverse(s[1:len(s)-1]) + s[0]\n",
    "\n",
    "if __name__ == \"__main__\":\n",
    "    s = ['a', 'ab', 'abc', 'pots&pans', 'ab&&cd']\n",
    "    for x in s:\n",
    "        print(reverse(x))"
   ]
  },
  {
   "cell_type": "markdown",
   "metadata": {},
   "source": [
    "### C-4.17\n",
    "Write a short recursive Python function that determines if a string s is a palindrome, that is, it is equal to its reverse. For example, racecar and gohangasalamiimalasagnahog are palindromes.<br>\n",
    "译：写一简短函数，判断字符串是否为回文形式，例如'gohangasalamiimalasagnahog'就是回文字符串\n",
    "\n",
    "递归描述：字符串是回文数 = 第一个和最后一个元素相等，且剩余中间字符串是回文数"
   ]
  },
  {
   "cell_type": "code",
   "execution_count": 14,
   "metadata": {},
   "outputs": [
    {
     "name": "stdout",
     "output_type": "stream",
     "text": [
      "{'gohangasalamiimalasagnahog': True, 'a': True, 'ab': False, 'bb': True, 'a&a': True, 'adfa': False}\n"
     ]
    }
   ],
   "source": [
    "def is_palindrome(s):\n",
    "    if len(s) == 1:\n",
    "        return True\n",
    "    if len(s) == 2:\n",
    "        return s[1] == s[0]\n",
    "    return s[-1] == s[0] and is_palindrome(s[1:len(s) - 1])\n",
    "\n",
    "if __name__ == \"__main__\":\n",
    "    s = ['gohangasalamiimalasagnahog', 'a',  'ab', 'bb', 'a&a', 'adfa']\n",
    "    print({x: is_palindrome(x) for x in s})"
   ]
  },
  {
   "cell_type": "markdown",
   "metadata": {},
   "source": [
    "### C-4.18\n",
    "Use recursion to write a Python function for determining if a string s has more vowels than consonants.<br>\n",
    "译：写一个递归函数，去判断字符串中是元音多，还是辅音多。\n",
    "\n",
    "解析：\n",
    "- 这个问题的核心不在于判断哪个多，而在于如何以递归的方式计算元音和辅音的多少。\n",
    "- 元音的个数 = 1 或 0（取决于第一个字母是否为元音） + 剩余字母元音个数"
   ]
  },
  {
   "cell_type": "code",
   "execution_count": 46,
   "metadata": {},
   "outputs": [
    {
     "name": "stdout",
     "output_type": "stream",
     "text": [
      "more consonants\n"
     ]
    }
   ],
   "source": [
    "vowels = ['a', 'e', 'i', 'o', 'u']\n",
    "consonants = ['b',  'c',  'd',  'f',  'g',  'h',  'j',  'k',  'l',  'm',  'n',\n",
    "              'p',  'q',  'r',  's',  't',  'v',  'w',  'x',  'y',  'z']\n",
    "\n",
    "def vowel_counts_recusive(s):\n",
    "    cnt = 1 if s[0].lower() in vowels else 0\n",
    "    if len(s) == 1:\n",
    "        return cnt\n",
    "    return cnt + vowel_counts_recusive(s[1:])\n",
    "\n",
    "def consonant_counts_recusive(s):\n",
    "    cnt = 1 if s[0].lower() in consonants else 0\n",
    "    if len(s) == 1:\n",
    "        return cnt\n",
    "    return cnt + consonant_counts_recusive(s[1:])\n",
    "\n",
    "if __name__ == \"__main__\":\n",
    "    s = 'this is a test, thanks for your reading'\n",
    "    vowel_cnt = vowel_counts_recusive(s)\n",
    "    consonant_cnt = consonant_counts_recusive(s)\n",
    "    if vowel_cnt == consonant_cnt:\n",
    "        print('same count')\n",
    "    else:\n",
    "        print(f\"more {'vowels' if vowel_cnt > consonant_cnt else 'consonants'}\")"
   ]
  },
  {
   "cell_type": "markdown",
   "metadata": {},
   "source": [
    "### C-4.19\n",
    "Write a short recursive Python function that rearranges a sequence of integer values so that all the even values appear before all the odd values.<br>\n",
    "译：写一个简短的python函数，重新组织一个整数数列，使得所有偶数排在所有奇数前面。\n",
    "\n",
    "递归描述：\n",
    "- 若第一个元素为偶数，无需任何处理，直接从二个元素起进行相同判断与处理过程\n",
    "- 若第一个元素为奇数，则从第二个到最后一个元素中找到第一个偶数，与第一个元素进行交换，然后从二个元素起进行相同判断与处理过程\n",
    "- 进行N轮之后，若从第N个元素起往后找不到偶数，说明任务已完成"
   ]
  },
  {
   "cell_type": "code",
   "execution_count": 5,
   "metadata": {},
   "outputs": [
    {
     "name": "stdout",
     "output_type": "stream",
     "text": [
      "[2, 4, 6, 8, 5, 3, 7, 1, 9]\n"
     ]
    }
   ],
   "source": [
    "def get_first_even_idx(ls, start_idx):\n",
    "    '''get index of first even number'''\n",
    "    for i in range(start_idx, len(ls)):\n",
    "        if not ls[i] % 2:\n",
    "            return i\n",
    "\n",
    "def arrange(ls, cur_idx):\n",
    "    ''' arrange list puting all even values before all odd ones \n",
    "    param:\n",
    "        s: list of int\n",
    "        cur_idx: current index that before which in list are all even values\n",
    "    '''\n",
    "    if cur_idx == len(ls):\n",
    "        return\n",
    "    if ls[cur_idx] % 2:\n",
    "        i = get_first_even_idx(ls, cur_idx)\n",
    "        if i is not None:\n",
    "            ls[cur_idx], ls[i] = ls[i], ls[cur_idx]\n",
    "        else:\n",
    "            return\n",
    "    arrange(ls, cur_idx + 1)\n",
    "\n",
    "if __name__ == \"__main__\":\n",
    "    ls = [1,2,3,4,5,6,7,8,9]\n",
    "    arrange(ls, 0)\n",
    "    print(ls)"
   ]
  },
  {
   "cell_type": "markdown",
   "metadata": {},
   "source": [
    "### C-4.20\n",
    "Given an unsorted sequence, S, of integers and an integer k, describe a\n",
    "recursive algorithm for rearranging the elements in S so that all elements\n",
    "less than or equal to k come before any elements larger than k. What is\n",
    "the running time of your algorithm on a sequence of n values?<br>\n",
    "译：S为无序整数序列，k为整数，描述一个递归算法，重新组织S内元素使得所有小于等于k的数都排在大于k的数的前面。\n",
    "\n",
    "\n",
    "思路：\n",
    "- 借助快速排序的思路，首先将k放在首位，然后进行快排的第一轮分区操作\n",
    "- 即：从右边找到第一个比k小的数，从左边找到第一个比k大的数，进行交换，直到两个方向的指针下标相遇"
   ]
  },
  {
   "cell_type": "code",
   "execution_count": 1,
   "metadata": {},
   "outputs": [
    {
     "name": "stdout",
     "output_type": "stream",
     "text": [
      "[2, 5, 3, 1, 5, 7, 6, 8]\n"
     ]
    }
   ],
   "source": [
    "def arrange_sub(ls, k, left, right):\n",
    "    \"\"\" put all elements less than or equal to k in front of k \"\"\"\n",
    "    if left == right:\n",
    "        ls[0], ls[right] = ls[right], ls[0]\n",
    "        return\n",
    "    if ls[right] >= k:\n",
    "        arrange_sub(ls, k, left, right - 1)\n",
    "    elif ls[left] <= k:\n",
    "        arrange_sub(ls, k, left + 1, right)\n",
    "    else:\n",
    "        ls[left], ls[right] = ls[right], ls[left]\n",
    "        arrange_sub(ls, k, left + 1, right - 1)\n",
    "\n",
    "def arrange(ls, k):\n",
    "    \"\"\" move all elements with value k to top of list \"\"\"\n",
    "    j = 0\n",
    "    for i in range(len(ls)):\n",
    "        if ls[i] == k:\n",
    "            ls[i], ls[j] = ls[j], ls[i]\n",
    "            j += 1\n",
    "    arrange_sub(ls, k, 0, len(ls) - 1)\n",
    "\n",
    "\n",
    "if __name__ == \"__main__\":\n",
    "    ls = [8, 7, 5, 6, 2, 5, 1, 3]\n",
    "    arrange(ls, 5)\n",
    "    print(ls)"
   ]
  },
  {
   "cell_type": "markdown",
   "metadata": {},
   "source": [
    "### C-4.21\n",
    "Suppose you are given an n-element sequence, S, containing distinct integers that are listed in increasing order. Given a number k, describe a\n",
    "recursive algorithm to find two integers in S that sum to k, if such a pair\n",
    "exists. What is the running time of your algorithm?<br>\n",
    "译: 假设给定一个含n个整数的序列S，无重复且已升序排列，给一个整数K，描述一个递归算法，判断在S里是否存在有两个整数的和为K.\n",
    "\n",
    "递归描述：\n",
    "- 维护左右两端的游标\n",
    "- 若两端游标所在元素之各大于K，则右端游标前移\n",
    "- 若两端游标所在元素之各小于K，则左端游标后移\n",
    "- 若两端游标所在元素之各等于K，或两游标相遇，则退出"
   ]
  },
  {
   "cell_type": "code",
   "execution_count": 2,
   "metadata": {},
   "outputs": [
    {
     "name": "stdout",
     "output_type": "stream",
     "text": [
      "(13, 35)\n"
     ]
    }
   ],
   "source": [
    "def sum_pair_sub(ls, k, left, right):\n",
    "    \"\"\" ls:increasing int list, k: int \"\"\"\n",
    "    if left >= right:\n",
    "        return\n",
    "    if ls[left] + ls[right] == k:\n",
    "        return ls[left], ls[right]\n",
    "    elif ls[left] + ls[right] > k:\n",
    "        return sum_pair_sub(ls, k, left, right - 1)\n",
    "    else:\n",
    "        return sum_pair_sub(ls, k, left + 1, right)\n",
    "\n",
    "def sum_pair(ls, k):\n",
    "    return sum_pair_sub(ls, k ,0 ,len(ls) - 1)\n",
    "\n",
    "if __name__ == \"__main__\":\n",
    "    ls = [1, 2, 3, 4, 5, 9, 13, 35]\n",
    "    print(sum_pair(ls, 48))"
   ]
  },
  {
   "cell_type": "code",
   "execution_count": null,
   "metadata": {},
   "outputs": [],
   "source": []
  }
 ],
 "metadata": {
  "kernelspec": {
   "display_name": "Python 3",
   "language": "python",
   "name": "python3"
  },
  "language_info": {
   "codemirror_mode": {
    "name": "ipython",
    "version": 3
   },
   "file_extension": ".py",
   "mimetype": "text/x-python",
   "name": "python",
   "nbconvert_exporter": "python",
   "pygments_lexer": "ipython3",
   "version": "3.7.6"
  }
 },
 "nbformat": 4,
 "nbformat_minor": 4
}
