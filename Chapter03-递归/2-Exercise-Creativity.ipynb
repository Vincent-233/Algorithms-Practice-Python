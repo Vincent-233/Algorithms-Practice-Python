{
 "cells": [
  {
   "cell_type": "markdown",
   "metadata": {},
   "source": [
    "### C-4.9\n",
    "Write a short recursive Python function that finds the minimum and max-mum values in a sequence without using any loops.<br>\n",
    "译：不用任何循环，写一个递归函数，找出一个序列里的最大和最小值"
   ]
  },
  {
   "cell_type": "code",
   "execution_count": 1,
   "metadata": {},
   "outputs": [
    {
     "name": "stdout",
     "output_type": "stream",
     "text": [
      "(1, 734)\n"
     ]
    }
   ],
   "source": [
    "def get_max_min(S, n):\n",
    "    \"\"\"return max data in first n elements\"\"\"\n",
    "    if n == 0:\n",
    "        return S[n],S[n]\n",
    "    min_data,max_data = get_max_min(S,n - 1)\n",
    "    max_data = max_data if max_data > S[n] else S[n]\n",
    "    min_data = min_data if min_data < S[n] else S[n]\n",
    "    return min_data,max_data\n",
    "\n",
    "if __name__ == \"__main__\":\n",
    "    S = [1,325,6,6,5,734,523,14]\n",
    "    print(get_max_min(S,len(S) - 1))"
   ]
  },
  {
   "cell_type": "markdown",
   "metadata": {},
   "source": [
    "### C-4.10 \n",
    "Describe a recursive algorithm to compute the integer part of the base-two\n",
    "logarithm of n using only addition and integer division<br>\n",
    "译：描述用递归实现以2为底的对数函数实现过程，仅使用加法和整除运算。<br>"
   ]
  },
  {
   "cell_type": "markdown",
   "metadata": {},
   "source": [
    "由于 $\\lfloor log_2n \\rfloor$ = 1 + $\\lfloor log_2n/2 \\rfloor$<br>\n",
    "所以 f(n) = 1 + f(n/2), f(1) = 0, f(2) = 1"
   ]
  },
  {
   "cell_type": "markdown",
   "metadata": {},
   "source": [
    "### C-4.11 \n",
    "Describe an efficient recursive function for solving the element unique-\n",
    "ness problem, which runs in time that is at most O(n2) in the worst case\n",
    "without using sorting.<br>\n",
    "译：描述用递归的方法判断列表元素是否唯一。"
   ]
  },
  {
   "cell_type": "markdown",
   "metadata": {},
   "source": [
    "- ls[0:n]不重复，相当于ls[1:n]不重复，且所有元素与ls[0]不相等\n",
    "- n = 1时，唯一"
   ]
  },
  {
   "cell_type": "markdown",
   "metadata": {},
   "source": [
    "### C-4.12 \n",
    "Give a recursive algorithm to compute the product of two positive integers,\n",
    "m and n, using only addition and subtraction.<br>\n",
    "译：给出一个实现两个整数m和n相乘的递归算法，仅使用加减法。"
   ]
  },
  {
   "cell_type": "markdown",
   "metadata": {},
   "source": [
    "递归关系如下：\n",
    "- f(m, n) = m + f(m, n - 1)\n",
    "- f(m, 1) = m"
   ]
  },
  {
   "cell_type": "markdown",
   "metadata": {},
   "source": [
    "### C-4.14 \n",
    "In the Towers of Hanoi puzzle, we are given a platform with three pegs, a,\n",
    "b, and c, sticking out of it. On peg a is a stack of n disks, each larger than\n",
    "the next, so that the smallest is on the top and the largest is on the bottom.\n",
    "The puzzle is to move all the disks from peg a to peg c, moving one disk\n",
    "at a time, so that we never place a larger disk on top of a smaller one.\n",
    "See Figure 4.15 for an example of the case n = 4. Describe a recursive\n",
    "algorithm for solving the Towers of Hanoi puzzle for arbitrary n. <br>\n",
    "译：汉诺塔，有三个桩a、b、c，a桩上有n个碟子，每个碟子比相邻的上一个要大，所以最小的在顶部，最大的在底部。<br>\n",
    "现在需要将a上的碟子移到c上，移动过程中要始终保持大碟在下，小碟在上，一次只能移动一个碟。<br>\n",
    "请给出递归算法描述。"
   ]
  },
  {
   "cell_type": "markdown",
   "metadata": {},
   "source": [
    "描述：\n",
    "- n = 1时，直接从a移到c，记为 a -> c\n",
    "- n = 2时，需要借助b做为中转，步骤为 a -> b、a -> c、b -> c\n",
    "- n > 2时，前 n-1 个碟移到b，a -> c，然后将b上的 n-1 个碟移到c\n",
    "\n",
    "移动步数方面，$a_1=1,a_2=2,a_n=2a_{n-1}+1$，最终公式为$a_n=2^n+1$"
   ]
  },
  {
   "cell_type": "code",
   "execution_count": 17,
   "metadata": {},
   "outputs": [
    {
     "name": "stdout",
     "output_type": "stream",
     "text": [
      "a -> b\n",
      "a -> c\n",
      "b -> c\n",
      "a -> b\n",
      "c -> a\n",
      "c -> b\n",
      "a -> b\n",
      "a -> c\n",
      "b -> c\n",
      "b -> a\n",
      "c -> a\n",
      "b -> c\n",
      "a -> b\n",
      "a -> c\n",
      "b -> c\n"
     ]
    }
   ],
   "source": [
    "def hanoi(n,mv_from,mv_to,mid):\n",
    "    \"\"\"move n disks from mv_from to mv_to,can use mid as bridge\"\"\"\n",
    "    if n == 1:\n",
    "        print('{} -> {}'.format(mv_from,mv_to))\n",
    "    else:\n",
    "        hanoi(n - 1,mv_from,mid,mv_to)\n",
    "        print('{} -> {}'.format(mv_from,mv_to))\n",
    "        hanoi(n - 1,mid,mv_to,mv_from)\n",
    "\n",
    "if __name__ == \"__main__\":\n",
    "    hanoi(4,'a','c','b')"
   ]
  }
 ],
 "metadata": {
  "kernelspec": {
   "display_name": "Python 3",
   "language": "python",
   "name": "python3"
  },
  "language_info": {
   "codemirror_mode": {
    "name": "ipython",
    "version": 3
   },
   "file_extension": ".py",
   "mimetype": "text/x-python",
   "name": "python",
   "nbconvert_exporter": "python",
   "pygments_lexer": "ipython3",
   "version": "3.7.6"
  }
 },
 "nbformat": 4,
 "nbformat_minor": 4
}
