{
 "cells": [
  {
   "cell_type": "markdown",
   "metadata": {},
   "source": [
    "### C-4.9\n",
    "Write a short recursive Python function that finds the minimum and max-mum values in a sequence without using any loops.<br>\n",
    "译：不用任何循环，写一个递归函数，找出一个序列里的最大和最小值"
   ]
  },
  {
   "cell_type": "code",
   "execution_count": 1,
   "metadata": {},
   "outputs": [
    {
     "name": "stdout",
     "output_type": "stream",
     "text": [
      "(1, 734)\n"
     ]
    }
   ],
   "source": [
    "def get_max_min(S, n):\n",
    "    \"\"\"return max data in first n elements\"\"\"\n",
    "    if n == 0:\n",
    "        return S[n],S[n]\n",
    "    min_data,max_data = get_max_min(S,n - 1)\n",
    "    max_data = max_data if max_data > S[n] else S[n]\n",
    "    min_data = min_data if min_data < S[n] else S[n]\n",
    "    return min_data,max_data\n",
    "\n",
    "if __name__ == \"__main__\":\n",
    "    S = [1,325,6,6,5,734,523,14]\n",
    "    print(get_max_min(S,len(S) - 1))"
   ]
  },
  {
   "cell_type": "markdown",
   "metadata": {},
   "source": [
    "### C-4.10 \n",
    "Describe a recursive algorithm to compute the integer part of the base-two\n",
    "logarithm of n using only addition and integer division<br>\n",
    "译：描述用递归实现以2为底的对数函数实现过程，仅使用加法和整除运算。<br>"
   ]
  },
  {
   "cell_type": "markdown",
   "metadata": {},
   "source": [
    "由于 $\\lfloor log_2n \\rfloor$ = 1 + $\\lfloor log_2n/2 \\rfloor$<br>\n",
    "所以 f(n) = 1 + f(n/2), f(1) = 0, f(2) = 1"
   ]
  },
  {
   "cell_type": "markdown",
   "metadata": {},
   "source": [
    "### C-4.11 \n",
    "Describe an efficient recursive function for solving the element unique-\n",
    "ness problem, which runs in time that is at most O(n2) in the worst case\n",
    "without using sorting.<br>\n",
    "译：描述用递归的方法判断列表元素是否唯一。"
   ]
  },
  {
   "cell_type": "markdown",
   "metadata": {},
   "source": [
    "- ls[0:n]不重复，相当于ls[1:n]不重复，且所有元素与ls[0]不相等\n",
    "- n = 1时，唯一"
   ]
  },
  {
   "cell_type": "markdown",
   "metadata": {},
   "source": [
    "### C-4.12 \n",
    "Give a recursive algorithm to compute the product of two positive integers,\n",
    "m and n, using only addition and subtraction.<br>\n",
    "译：给出一个实现两个整数m和n相乘的递归算法，仅使用加减法。"
   ]
  },
  {
   "cell_type": "markdown",
   "metadata": {},
   "source": [
    "递归关系如下：\n",
    "- f(m, n) = m + f(m, n - 1)\n",
    "- f(m, 1) = m"
   ]
  }
 ],
 "metadata": {
  "kernelspec": {
   "display_name": "Python 3",
   "language": "python",
   "name": "python3"
  },
  "language_info": {
   "codemirror_mode": {
    "name": "ipython",
    "version": 3
   },
   "file_extension": ".py",
   "mimetype": "text/x-python",
   "name": "python",
   "nbconvert_exporter": "python",
   "pygments_lexer": "ipython3",
   "version": "3.7.6"
  }
 },
 "nbformat": 4,
 "nbformat_minor": 4
}
