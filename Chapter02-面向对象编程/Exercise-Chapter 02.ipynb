{
 "cells": [
  {
   "cell_type": "markdown",
   "metadata": {},
   "source": [
    "### R-2.4 \n",
    "Write a Python class, Flower, that has three instance variables of type str,\n",
    "int, and float, that respectively represent the name of the flower, its number of petals, and its price. Your class must include a constructor method\n",
    "that initializes each variable to an appropriate value, and your class should\n",
    "include methods for setting the value of each type, and retrieving the value\n",
    "of each type.<br>\n",
    "译：写一个Flower类，含花朵名称（flower）、花瓣数目（petals）、价格（price）三个属性，含构造函数，含为成员赋值以及获取成员变量值的函数。"
   ]
  },
  {
   "cell_type": "code",
   "execution_count": 10,
   "metadata": {},
   "outputs": [],
   "source": [
    "# 类定义\n",
    "class Flower:\n",
    "    def __init__(self,name,petals_number,price):\n",
    "        \"\"\"构造函数\"\"\"\n",
    "        self._name = name\n",
    "        self._petals_number = petals_number\n",
    "        self._price = price\n",
    "    \n",
    "    def get_name(self):\n",
    "        return self._name\n",
    "    \n",
    "    def get_petals_number(self):\n",
    "        return self._petals_number\n",
    "    \n",
    "    def get_price(self):\n",
    "        return self._price\n",
    "    \n",
    "    def set_name(self,name):\n",
    "        self._name = name\n",
    "    \n",
    "    def set_petals_number(self,petals_number):\n",
    "        self._petals_number = petals_number\n",
    "    \n",
    "    def set_price(self,price):\n",
    "        self._price = price"
   ]
  },
  {
   "cell_type": "code",
   "execution_count": 11,
   "metadata": {},
   "outputs": [
    {
     "name": "stdout",
     "output_type": "stream",
     "text": [
      "flower_one\n",
      "3\n",
      "a\n",
      "\n",
      "flow_two\n",
      "5\n",
      "21.0\n"
     ]
    }
   ],
   "source": [
    "# 测试代码\n",
    "my_flower = Flower('flower_one',3,10.5)\n",
    "\n",
    "print(my_flower.get_name())\n",
    "print(my_flower.get_petals_number())\n",
    "print(my_flower.get_price())\n",
    "\n",
    "print('')\n",
    "my_flower.set_name('flow_two')\n",
    "my_flower.set_petals_number('5')\n",
    "my_flower.set_price('21.0')\n",
    "\n",
    "print(my_flower.get_name())\n",
    "print(my_flower.get_petals_number())\n",
    "print(my_flower.get_price())"
   ]
  },
  {
   "cell_type": "markdown",
   "metadata": {},
   "source": [
    "### R-2.5 \n",
    "Use the techniques of Section 1.7 to revise the charge and make payment\n",
    "methods of the CreditCard class to ensure that the caller sends a number\n",
    "as a parameter.<br>\n",
    "译：参考第1.7节的异常捕获技术，改进CreditCard类（这里我选择改进上面的Flower类），保证相关属性类型赋值的正确性。"
   ]
  },
  {
   "cell_type": "code",
   "execution_count": 5,
   "metadata": {},
   "outputs": [],
   "source": [
    "# 类定义，确保 petals_number 为 int，price 为 float\n",
    "class Flower_Safe:\n",
    "    def __init__(self,name,petals_number,price):\n",
    "        \"\"\"构造函数\"\"\"\n",
    "        self._name = None\n",
    "        self._petals_number = None\n",
    "        self._price = None\n",
    "        self.set_name(name)\n",
    "        self.set_petals_number(petals_number)\n",
    "        self.set_price(price)\n",
    "    \n",
    "    def get_name(self):\n",
    "        return self._name\n",
    "    \n",
    "    def get_petals_number(self):\n",
    "        return self._petals_number\n",
    "    \n",
    "    def get_price(self):\n",
    "        return self._price\n",
    "    \n",
    "    def set_name(self,name):\n",
    "        if not isinstance(name,str):\n",
    "            raise TypeError('name must be string')\n",
    "        self._name = name\n",
    "    \n",
    "    def set_petals_number(self,petals_number):\n",
    "        if not isinstance(petals_number,(int,float)):\n",
    "            raise TypeError('petals_number must be numeric')\n",
    "        self._petals_number = petals_number\n",
    "    \n",
    "    def set_price(self,price):\n",
    "        if not isinstance(price,(int,float)):\n",
    "            raise TypeError('price must be numeric')\n",
    "        self._price = price"
   ]
  },
  {
   "cell_type": "code",
   "execution_count": 18,
   "metadata": {},
   "outputs": [
    {
     "name": "stdout",
     "output_type": "stream",
     "text": [
      "flower_one\n",
      "3\n",
      "10.5\n",
      "\n",
      "Error:price must be numeric\n"
     ]
    }
   ],
   "source": [
    "#=================== 测试代码\n",
    "# 正常赋值\n",
    "try:\n",
    "    my_flower = Flower_Safe('flower_one',3,10.5)\n",
    "    print(my_flower.get_name())\n",
    "    print(my_flower.get_petals_number())\n",
    "    print(my_flower.get_price())\n",
    "    \n",
    "except (TypeError) as e:\n",
    "    print(e)\n",
    "\n",
    "# 错误赋值，捕获异常\n",
    "try:\n",
    "    my_flower = Flower_Safe('flower_one',3,'10.5')\n",
    "    print(my_flower.get_name())\n",
    "    print(my_flower.get_petals_number())\n",
    "    print(my_flower.get_price())\n",
    "    \n",
    "except (TypeError) as e:\n",
    "    print('\\nError:' + str(e))"
   ]
  }
 ],
 "metadata": {
  "kernelspec": {
   "display_name": "Python 3",
   "language": "python",
   "name": "python3"
  },
  "language_info": {
   "codemirror_mode": {
    "name": "ipython",
    "version": 3
   },
   "file_extension": ".py",
   "mimetype": "text/x-python",
   "name": "python",
   "nbconvert_exporter": "python",
   "pygments_lexer": "ipython3",
   "version": "3.7.3"
  }
 },
 "nbformat": 4,
 "nbformat_minor": 4
}
