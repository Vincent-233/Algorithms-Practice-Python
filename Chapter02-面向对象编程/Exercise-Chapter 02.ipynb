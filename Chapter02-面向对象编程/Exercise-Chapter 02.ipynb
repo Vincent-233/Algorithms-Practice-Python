{
 "cells": [
  {
   "cell_type": "markdown",
   "metadata": {},
   "source": [
    "### R-2.4 \n",
    "Write a Python class, Flower, that has three instance variables of type str,\n",
    "int, and float, that respectively represent the name of the flower, its number of petals, and its price. Your class must include a constructor method\n",
    "that initializes each variable to an appropriate value, and your class should\n",
    "include methods for setting the value of each type, and retrieving the value\n",
    "of each type.<br>\n",
    "译：写一个Flower类，含花朵名称（flower）、花瓣数目（petals）、价格（price）三个属性，含构造函数，含为成员赋值以及获取成员变量值的函数。"
   ]
  },
  {
   "cell_type": "code",
   "execution_count": 10,
   "metadata": {},
   "outputs": [],
   "source": [
    "# 类定义\n",
    "class Flower:\n",
    "    def __init__(self,name,petals_number,price):\n",
    "        \"\"\"构造函数\"\"\"\n",
    "        self._name = name\n",
    "        self._petals_number = petals_number\n",
    "        self._price = price\n",
    "    \n",
    "    def get_name(self):\n",
    "        return self._name\n",
    "    \n",
    "    def get_petals_number(self):\n",
    "        return self._petals_number\n",
    "    \n",
    "    def get_price(self):\n",
    "        return self._price\n",
    "    \n",
    "    def set_name(self,name):\n",
    "        self._name = name\n",
    "    \n",
    "    def set_petals_number(self,petals_number):\n",
    "        self._petals_number = petals_number\n",
    "    \n",
    "    def set_price(self,price):\n",
    "        self._price = price"
   ]
  },
  {
   "cell_type": "code",
   "execution_count": 11,
   "metadata": {},
   "outputs": [
    {
     "name": "stdout",
     "output_type": "stream",
     "text": [
      "flower_one\n",
      "3\n",
      "a\n",
      "\n",
      "flow_two\n",
      "5\n",
      "21.0\n"
     ]
    }
   ],
   "source": [
    "# 测试代码\n",
    "my_flower = Flower('flower_one',3,10.5)\n",
    "\n",
    "print(my_flower.get_name())\n",
    "print(my_flower.get_petals_number())\n",
    "print(my_flower.get_price())\n",
    "\n",
    "print('')\n",
    "my_flower.set_name('flow_two')\n",
    "my_flower.set_petals_number('5')\n",
    "my_flower.set_price('21.0')\n",
    "\n",
    "print(my_flower.get_name())\n",
    "print(my_flower.get_petals_number())\n",
    "print(my_flower.get_price())"
   ]
  },
  {
   "cell_type": "markdown",
   "metadata": {},
   "source": [
    "### R-2.5 \n",
    "Use the techniques of Section 1.7 to revise the charge and make payment\n",
    "methods of the CreditCard class to ensure that the caller sends a number\n",
    "as a parameter.<br>\n",
    "译：参考第1.7节的异常捕获技术，改进CreditCard类（这里我选择改进上面的Flower类），保证相关属性类型赋值的正确性。"
   ]
  },
  {
   "cell_type": "code",
   "execution_count": 5,
   "metadata": {},
   "outputs": [],
   "source": [
    "# 类定义，确保 petals_number 为 int，price 为 float\n",
    "class Flower_Safe:\n",
    "    def __init__(self,name,petals_number,price):\n",
    "        \"\"\"构造函数\"\"\"\n",
    "        self._name = None\n",
    "        self._petals_number = None\n",
    "        self._price = None\n",
    "        self.set_name(name)\n",
    "        self.set_petals_number(petals_number)\n",
    "        self.set_price(price)\n",
    "    \n",
    "    def get_name(self):\n",
    "        return self._name\n",
    "    \n",
    "    def get_petals_number(self):\n",
    "        return self._petals_number\n",
    "    \n",
    "    def get_price(self):\n",
    "        return self._price\n",
    "    \n",
    "    def set_name(self,name):\n",
    "        if not isinstance(name,str):\n",
    "            raise TypeError('name must be string')\n",
    "        self._name = name\n",
    "    \n",
    "    def set_petals_number(self,petals_number):\n",
    "        if not isinstance(petals_number,(int,float)):\n",
    "            raise TypeError('petals_number must be numeric')\n",
    "        self._petals_number = petals_number\n",
    "    \n",
    "    def set_price(self,price):\n",
    "        if not isinstance(price,(int,float)):\n",
    "            raise TypeError('price must be numeric')\n",
    "        self._price = price"
   ]
  },
  {
   "cell_type": "code",
   "execution_count": 18,
   "metadata": {},
   "outputs": [
    {
     "name": "stdout",
     "output_type": "stream",
     "text": [
      "flower_one\n",
      "3\n",
      "10.5\n",
      "\n",
      "Error:price must be numeric\n"
     ]
    }
   ],
   "source": [
    "#=================== 测试代码\n",
    "# 正常赋值\n",
    "try:\n",
    "    my_flower = Flower_Safe('flower_one',3,10.5)\n",
    "    print(my_flower.get_name())\n",
    "    print(my_flower.get_petals_number())\n",
    "    print(my_flower.get_price())\n",
    "    \n",
    "except (TypeError) as e:\n",
    "    print(e)\n",
    "\n",
    "# 错误赋值，捕获异常\n",
    "try:\n",
    "    my_flower = Flower_Safe('flower_one',3,'10.5')\n",
    "    print(my_flower.get_name())\n",
    "    print(my_flower.get_petals_number())\n",
    "    print(my_flower.get_price())\n",
    "    \n",
    "except (TypeError) as e:\n",
    "    print('\\nError:' + str(e))"
   ]
  },
  {
   "cell_type": "markdown",
   "metadata": {},
   "source": [
    "### R-2.7\n",
    "The CreditCard class of Section 2.3 initializes the balance of a new ac-\n",
    "count to zero. Modify that class so that a new account can be given a\n",
    "nonzero balance using an optional fifth parameter to the constructor. The\n",
    "four-parameter constructor syntax should continue to produce an account\n",
    "with zero balance.<br>\n",
    "译：2.3的CreditCard类，构造函数将balance初始化为0，请改变一下构造函数，增加第5个可选参数以便支持初始时balance不为0"
   ]
  },
  {
   "cell_type": "code",
   "execution_count": 2,
   "metadata": {},
   "outputs": [],
   "source": [
    "# add a parameter with default value zero\n",
    "def __init__(self, customer, bank, acnt, limit, balance = 0):\n",
    "    self._customer = customer\n",
    "    self._bank = bank\n",
    "    self._account = acnt\n",
    "    self._limit = limit\n",
    "    self._balance = balance"
   ]
  },
  {
   "cell_type": "markdown",
   "metadata": {},
   "source": [
    "### R-2.9\n",
    "Implement the \\_\\_sub\\_\\_ method for the Vector class of Section 2.3.3, so\n",
    "that the expression u−v returns a new vector instance representing the\n",
    "difference between two vectors.<br>\n",
    "译：实现向量之间的减法，使u-v可以返回一个新的向量"
   ]
  },
  {
   "cell_type": "code",
   "execution_count": 2,
   "metadata": {},
   "outputs": [],
   "source": [
    "def __sub__(self, other):\n",
    "    \"\"\"return the difference between two vectors\"\"\"\n",
    "    if len(self) != len(other):\n",
    "      raise ValueError('dimensions must agree')\n",
    "    result = Vector(len(self))\n",
    "    for j in range(len(self)):\n",
    "      result[j] = self[j] - other[j]\n",
    "    return result"
   ]
  },
  {
   "cell_type": "markdown",
   "metadata": {},
   "source": [
    "### R-2.10\n",
    "Implement the \\_\\_neg\\_\\_ method for the Vector class of Section 2.3.3, so\n",
    "that the expression −v returns a new vector instance whose coordinates\n",
    "are all the negated values of the respective coordinates of v.<br>\n",
    "译：实现\\_\\_neg\\_\\_方法，使-v返回一个所有元素均为v元素相反数的向量"
   ]
  },
  {
   "cell_type": "code",
   "execution_count": 3,
   "metadata": {},
   "outputs": [],
   "source": [
    "def __neg__(self):\n",
    "    \"\"\"Return copy of vector with all coordinates negated.\"\"\"\n",
    "    result = Vector(len(self))           # start with vector of zeros\n",
    "    for j in range(len(self)):\n",
    "      result[j] = -self[j]\n",
    "    return result"
   ]
  },
  {
   "cell_type": "markdown",
   "metadata": {},
   "source": [
    "### R-2.11\n",
    "In Section 2.3.3, we note that our Vector class supports a syntax such as\n",
    "v = u + [5, 3, 10, −2, 1], in which the sum of a vector and list returns\n",
    "a new vector. However, the syntax v = [5, 3, 10, −2, 1] + u is illegal.\n",
    "Explain how the Vector class definition can be revised so that this syntax\n",
    "generates a new vector.<br>\n",
    "译：Vector类支持 v = u + [5, 3, 10, −2, 1] 这样的语法，可以返回一个新的向量，但 v = [5, 3, 10, −2, 1] + u 这样的语法却报错，请修订类定义让其支持。"
   ]
  },
  {
   "cell_type": "code",
   "execution_count": 4,
   "metadata": {},
   "outputs": [],
   "source": [
    "# b + a 要用 __radd__, a + b 相当于 b.__radd__(a)\n",
    "def __radd__(self, other):\n",
    "    \"\"\"Return sum of two vectors.\"\"\"\n",
    "    return self + other  # rely on existing __add__ definition"
   ]
  },
  {
   "cell_type": "markdown",
   "metadata": {},
   "source": [
    "### R-2.12 - R-2.14\n",
    "- 2.12 Implement the mul method for the Vector class of Section 2.3.3, so\n",
    "that the expression v 3 returns a new vector with coordinates that are 3\n",
    "times the respective coordinates of v.\n",
    "-2.13 Exercise R-2.12 asks for an implementation of mul , for the Vector\n",
    "class of Section 2.3.3, to provide support for the syntax v 3. Implement\n",
    "the rmul method, to provide additional support for syntax 3 v.\n",
    "- 2.14 Implement the mul method for the Vector class of Section 2.3.3, so\n",
    "that the expression u v returns a scalar that represents the dot product of\n",
    "the vectors,that is $\\sum\\limits_{i=1}^du_i.v_i$"
   ]
  },
  {
   "cell_type": "code",
   "execution_count": 14,
   "metadata": {},
   "outputs": [],
   "source": [
    "# 2.12 和 2.13 合一\n",
    "def __mul__(self, other):\n",
    "    \"\"\"return dot product or n times respective\"\"\"\n",
    "    result = Vector(len(self))\n",
    "    if isinstance(other, (int, float)):\n",
    "      for i in range(len(self)):\n",
    "        result[i] = self[i] * other\n",
    "    else:\n",
    "      if len(self) != len(other):\n",
    "        raise ValueError('dimensions must agree')\n",
    "      for i in range(len(self)):\n",
    "        result[i] = self[i] * other[i]\n",
    "    return result\n",
    "\n",
    "def __rmul__(self, other):\n",
    "    \"\"\"return dot product or n times respective\"\"\"\n",
    "    return self * other"
   ]
  },
  {
   "cell_type": "markdown",
   "metadata": {},
   "source": [
    "### R-2.15\n",
    "The Vector class of Section 2.3.3 provides a constructor that takes an in-\n",
    "teger d, and produces a d-dimensional vector with all coordinates equal to\n",
    "0. Another convenient form for creating a new vector would beto send the\n",
    "constructor a parameter that is some iterable type representing a sequence\n",
    "of numbers, and to create a vector with dimension equal to the length of\n",
    "that sequence and coordinates equal to the sequence values. For example,\n",
    "Vector([4, 7, 5]) would produce a three-dimensional vector with coordi-\n",
    "nates <4, 7, 5>. Modify the constructor so that either of these forms is\n",
    "acceptable; that is, if a single integer is sent, it produces a vector of that\n",
    "dimension with all zeros, but if a sequence of numbers is provided, it pro-\n",
    "duces a vector with coordinates based on that sequence."
   ]
  },
  {
   "cell_type": "code",
   "execution_count": 6,
   "metadata": {},
   "outputs": [],
   "source": [
    "def __init__(self, d):\n",
    "    if isinstance(d, int):\n",
    "        self._coords = [0] * d\n",
    "    else:                                  \n",
    "        try: # we test if param is iterable 【非常有用的判断 list-like 类型】\n",
    "            self._coords = [val for val in d]\n",
    "        except TypeError:\n",
    "            raise TypeError('invalid parameter type')"
   ]
  }
 ],
 "metadata": {
  "kernelspec": {
   "display_name": "Python 3",
   "language": "python",
   "name": "python3"
  },
  "language_info": {
   "codemirror_mode": {
    "name": "ipython",
    "version": 3
   },
   "file_extension": ".py",
   "mimetype": "text/x-python",
   "name": "python",
   "nbconvert_exporter": "python",
   "pygments_lexer": "ipython3",
   "version": "3.7.6"
  }
 },
 "nbformat": 4,
 "nbformat_minor": 4
}
