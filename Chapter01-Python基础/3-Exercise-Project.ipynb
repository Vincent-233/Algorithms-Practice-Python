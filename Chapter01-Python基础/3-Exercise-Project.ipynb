{
 "cells": [
  {
   "cell_type": "markdown",
   "metadata": {},
   "source": [
    "### P-1.29\n",
    "Write a Python program that outputs all possible strings formed by using\n",
    "the characters c , a , t , d , o , and g exactly once.<br>\n",
    "译：编写一个程序，返回所有由c、a、t、d、o、g这几个字母组成的字符串，每个字母均出现一次。"
   ]
  },
  {
   "cell_type": "markdown",
   "metadata": {},
   "source": [
    "解析：这实际上是一个全排列问题"
   ]
  },
  {
   "cell_type": "code",
   "execution_count": 155,
   "metadata": {},
   "outputs": [
    {
     "name": "stdout",
     "output_type": "stream",
     "text": [
      "720\n"
     ]
    }
   ],
   "source": [
    "# 穷举法\n",
    "result = []\n",
    "for a in ('catdog'):\n",
    "    for b in ('catdog'.replace(a,'')):\n",
    "        for c in ('catdog').replace(a,'').replace(b,''):\n",
    "            for d in ('catdog').replace(a,'').replace(b,'').replace(c,''):\n",
    "                for e in ('catdog').replace(a,'').replace(b,'').replace(c,'').replace(d,''):\n",
    "                    for f in ('catdog').replace(a,'').replace(b,'').replace(c,'').replace(d,'').replace(e,''):\n",
    "                        result.append(f'{a}{b}{c}{d}{e}{f}')\n",
    "# 结果个数, 6! = 720\n",
    "print(len(result))"
   ]
  },
  {
   "cell_type": "markdown",
   "metadata": {},
   "source": [
    "以上方法虽然可以达到效果，但局限也很明显，如果给的字母个数有变，程序需要调整，如果字母个数非常多，程序将变得难以阅读<br>\n",
    "下面采用递归算法，abc的全排列 = a+bc的全排列，b加ac的全排列，c加bc的全排列，依此类推<br>"
   ]
  },
  {
   "cell_type": "code",
   "execution_count": 156,
   "metadata": {},
   "outputs": [],
   "source": [
    "# 递归法\n",
    "def permutation_sub(prefix_str,suffix_str,result):\n",
    "    if len(suffix_str) == 0:\n",
    "        result.append(prefix_str)\n",
    "    for s in suffix_str:\n",
    "        permutation_sub(prefix_str + s, suffix_str.replace(s,''), result)\n",
    "\n",
    "def permutation(input_str):\n",
    "    \"\"\"假设input_str无重复字符\"\"\"\n",
    "    perm = []\n",
    "    permutation_sub('',input_str,perm)\n",
    "    return perm"
   ]
  },
  {
   "cell_type": "code",
   "execution_count": 157,
   "metadata": {},
   "outputs": [
    {
     "data": {
      "text/html": [
       "<div>\n",
       "<style scoped>\n",
       "    .dataframe tbody tr th:only-of-type {\n",
       "        vertical-align: middle;\n",
       "    }\n",
       "\n",
       "    .dataframe tbody tr th {\n",
       "        vertical-align: top;\n",
       "    }\n",
       "\n",
       "    .dataframe thead th {\n",
       "        text-align: right;\n",
       "    }\n",
       "</style>\n",
       "<table border=\"1\" class=\"dataframe\">\n",
       "  <thead>\n",
       "    <tr style=\"text-align: right;\">\n",
       "      <th></th>\n",
       "      <th>result</th>\n",
       "    </tr>\n",
       "  </thead>\n",
       "  <tbody>\n",
       "    <tr>\n",
       "      <th>0</th>\n",
       "      <td>catdog</td>\n",
       "    </tr>\n",
       "    <tr>\n",
       "      <th>1</th>\n",
       "      <td>catdgo</td>\n",
       "    </tr>\n",
       "    <tr>\n",
       "      <th>2</th>\n",
       "      <td>catodg</td>\n",
       "    </tr>\n",
       "    <tr>\n",
       "      <th>3</th>\n",
       "      <td>catogd</td>\n",
       "    </tr>\n",
       "    <tr>\n",
       "      <th>4</th>\n",
       "      <td>catgdo</td>\n",
       "    </tr>\n",
       "    <tr>\n",
       "      <th>...</th>\n",
       "      <td>...</td>\n",
       "    </tr>\n",
       "    <tr>\n",
       "      <th>715</th>\n",
       "      <td>godcta</td>\n",
       "    </tr>\n",
       "    <tr>\n",
       "      <th>716</th>\n",
       "      <td>godact</td>\n",
       "    </tr>\n",
       "    <tr>\n",
       "      <th>717</th>\n",
       "      <td>godatc</td>\n",
       "    </tr>\n",
       "    <tr>\n",
       "      <th>718</th>\n",
       "      <td>godtca</td>\n",
       "    </tr>\n",
       "    <tr>\n",
       "      <th>719</th>\n",
       "      <td>godtac</td>\n",
       "    </tr>\n",
       "  </tbody>\n",
       "</table>\n",
       "<p>720 rows × 1 columns</p>\n",
       "</div>"
      ],
      "text/plain": [
       "     result\n",
       "0    catdog\n",
       "1    catdgo\n",
       "2    catodg\n",
       "3    catogd\n",
       "4    catgdo\n",
       "..      ...\n",
       "715  godcta\n",
       "716  godact\n",
       "717  godatc\n",
       "718  godtca\n",
       "719  godtac\n",
       "\n",
       "[720 rows x 1 columns]"
      ]
     },
     "execution_count": 157,
     "metadata": {},
     "output_type": "execute_result"
    }
   ],
   "source": [
    "# 测试\n",
    "result = permutation('catdog')\n",
    "\n",
    "# 展现\n",
    "import pandas as pd\n",
    "df = pd.DataFrame({'result':result})\n",
    "pd.set_option(\"display.max_rows\",10)\n",
    "df"
   ]
  },
  {
   "cell_type": "markdown",
   "metadata": {},
   "source": [
    "### P-1.30\n",
    "Write a Python program that can take a positive integer greater than 2 as\n",
    "input and write out the number of times one must repeatedly divide this\n",
    "number by 2 before getting a value less than 2.<br>\n",
    "译：写一个python程序，给定一个大于2的正整数，然后不断除以2，输出在结果比2小之前，可被除的次数。"
   ]
  },
  {
   "cell_type": "markdown",
   "metadata": {},
   "source": [
    "解析：实际就是log2n - 1"
   ]
  },
  {
   "cell_type": "code",
   "execution_count": 158,
   "metadata": {},
   "outputs": [],
   "source": [
    "def divide_times_before_less_then_2(n):\n",
    "    if n < 2:\n",
    "        print('pls input a number great than 2')\n",
    "        return\n",
    "    i = 0\n",
    "    while n >= 4:\n",
    "        n /= 2\n",
    "        i += 1\n",
    "    return i"
   ]
  },
  {
   "cell_type": "code",
   "execution_count": 159,
   "metadata": {},
   "outputs": [
    {
     "name": "stdout",
     "output_type": "stream",
     "text": [
      "0 0\n",
      "2 2\n",
      "3 3\n",
      "4 4\n",
      "4 4\n",
      "5 5\n"
     ]
    }
   ],
   "source": [
    "# 测试\n",
    "import math\n",
    "for x in [3,9,16,32,45,87]:\n",
    "    print(divide_times_before_less_then_2(x), #  自己实现版本 \n",
    "          int(math.log2(x)) - 1)              # log2n - 1"
   ]
  },
  {
   "cell_type": "markdown",
   "metadata": {},
   "source": [
    "### P-1.32\n",
    "Write a Python program that can simulate a simple calculator, using the\n",
    "console as the exclusive input and output device. That is, each input to the\n",
    "calculator, be it a number, like 12.34 or 1034, or an operator, like + or =,\n",
    "can be done on a separate line. After each such input, you should output\n",
    "to the Python console what would be displayed on your calculator.<br>\n",
    "译：编写一个模拟简单计算器的Python程序，使用控制台作为专用输入和输出设备。也就是说，每个输入，可以是数字，例如12.34或1034，也可以是运算符，例如+或=，可以在分开的行上完成。在每个这样的输入之后，输出结果到Python控制台。"
   ]
  },
  {
   "cell_type": "code",
   "execution_count": 160,
   "metadata": {},
   "outputs": [
    {
     "name": "stdin",
     "output_type": "stream",
     "text": [
      "input a number:  45\n",
      "input an operator:  /\n",
      "input other number:  9\n"
     ]
    },
    {
     "name": "stdout",
     "output_type": "stream",
     "text": [
      "45 / 9 = 5.0\n"
     ]
    }
   ],
   "source": [
    "def calc(x,y,op):\n",
    "    if op == '+':\n",
    "        return x + y\n",
    "    if op == '-':\n",
    "        return x - y\n",
    "    if op == '*':\n",
    "        return x * y\n",
    "    if op == '/':\n",
    "        return x / y\n",
    "    raise Exception('operator is invalid!')\n",
    "\n",
    "if __name__ == \"__main__\":\n",
    "    x  = input('input a number: ')\n",
    "    op = input('input an operator: ')\n",
    "    y  = input('input other number: ')\n",
    "    try:\n",
    "        z = calc(float(x),float(y),op)\n",
    "        print(f'{x} {op} {y} = {z}')\n",
    "    except Exception as e:\n",
    "        print('something is wrong: ',e)"
   ]
  },
  {
   "cell_type": "markdown",
   "metadata": {},
   "source": [
    "### P-1.33\n",
    "Write a Python program that simulates a handheld calculator. Your pro-\n",
    "gram should process input from the Python console representing buttons\n",
    "that are “pushed,” and then output the contents of the screenafter each op-\n",
    "eration is performed. Minimally, your calculator should beable to process\n",
    "the basic arithmetic operations and a reset/clear operation.<br>\n",
    "译：写一个python程序，类似于手持计算器，你的程序能正常的输入内容并控制台中显示出每一步的操作，你的计算器能支持基本的算法和重置、清除的操作。"
   ]
  },
  {
   "cell_type": "code",
   "execution_count": 161,
   "metadata": {},
   "outputs": [
    {
     "name": "stdin",
     "output_type": "stream",
     "text": [
      " 1+5\n"
     ]
    },
    {
     "name": "stdout",
     "output_type": "stream",
     "text": [
      "6\n"
     ]
    },
    {
     "name": "stdin",
     "output_type": "stream",
     "text": [
      " 5+7\n"
     ]
    },
    {
     "name": "stdout",
     "output_type": "stream",
     "text": [
      "12\n"
     ]
    },
    {
     "name": "stdin",
     "output_type": "stream",
     "text": [
      " 3/4\n"
     ]
    },
    {
     "name": "stdout",
     "output_type": "stream",
     "text": [
      "0.75\n"
     ]
    },
    {
     "name": "stdin",
     "output_type": "stream",
     "text": [
      " exit\n"
     ]
    }
   ],
   "source": [
    "\"\"\" \n",
    "假定只有两个数字，一个操作符，而且在一行中输入\n",
    "\"\"\"\n",
    "import os\n",
    "class Simple_Calc:\n",
    "    import re\n",
    "    def __init__(self):\n",
    "        self.operators = '+-*/'\n",
    "\n",
    "    def calc(self,x,y,op):\n",
    "        if op == '+':\n",
    "            return x + y\n",
    "        if op == '-':\n",
    "            return x - y\n",
    "        if op == '*':\n",
    "            return x * y\n",
    "        if op == '/':\n",
    "            return x / y\n",
    "        raise Exception('operator is invalid!')\n",
    "\n",
    "    def calc_exp(self,exp):\n",
    "        for op in self.operators:\n",
    "            if op in exp:\n",
    "                x = float(exp.split(op)[0].strip())\n",
    "                y = float(exp.split(op)[1].strip())\n",
    "                result =  self.calc(x,y,op)\n",
    "                return result\n",
    "\n",
    "if __name__ == \"__main__\":\n",
    "    my_calc = Simple_Calc()\n",
    "    expressoin = ''\n",
    "    try:\n",
    "        while (True):\n",
    "            expressoin = input().strip()\n",
    "            if expressoin == 'exit':\n",
    "                break\n",
    "            if expressoin == 'clear':\n",
    "                os.system('cls')\n",
    "            else:\n",
    "                # operator count check\n",
    "                op_count = len([1 for char in expressoin if char in my_calc.operators])\n",
    "                if op_count == 0:\n",
    "                    print('no operator found')\n",
    "                elif op_count > 1:\n",
    "                    print('only one operator is allowed')\n",
    "                else:\n",
    "                    # start to calculate\n",
    "                    result = my_calc.calc_exp(expressoin)\n",
    "                    if result == int(result):\n",
    "                        result = int(result)\n",
    "                    print(result)\n",
    "    except Exception as e:\n",
    "        print('something is wrong: ',e)"
   ]
  },
  {
   "cell_type": "markdown",
   "metadata": {},
   "source": [
    "### P-1.34\n",
    "A common punishment for school children is to write out a sentence mul-\n",
    "tiple times. Write a Python stand-alone program that will write out the\n",
    "following sentence one hundred times: “I will never spam my friends\n",
    "again.” Your program should number each of the sentences and it should\n",
    "make eight different random-looking typos.<br>\n",
    "译：如上学时被老师罚抄100遍一样，写个程序，将如下句子写100次：“I will never spam my friends again.”,并标记每个句子，并有8次随机的拼写错误。"
   ]
  },
  {
   "cell_type": "code",
   "execution_count": 162,
   "metadata": {},
   "outputs": [
    {
     "name": "stdout",
     "output_type": "stream",
     "text": [
      "1 I will never spam my friends again\n",
      "2 I will never spam my friends again\n",
      "3 I will never spam my friends again\n",
      "4 I will never spam my friends again\n",
      "5 I will never spam my friends again\n",
      "6 I will never spam my friends again\n",
      "7 I will nevez spam my friends again 【typo happens!】\n",
      "7 I will never spam my friends again\n",
      "8 I will never spam my friends again\n",
      "9 I will never spam my friends again\n",
      "10 I will never spam my friends again\n",
      "11 I will never spam my friends again\n",
      "12 I will never spam my friends again\n",
      "13 I will never spam my friends again\n",
      "14 I will never spam my friends again\n",
      "15 I will never spam my friends again\n",
      "16 I will never spam my friends again\n",
      "17 I will never spam my friends again\n",
      "18 I will never spam my friends again\n",
      "19 I will never spam my friends again\n",
      "20 I will never spam my friends again\n",
      "21 I will never spam my friends again\n",
      "22 I will never spam my friends again\n",
      "23 I will never spam my friends again\n",
      "24 I will never spam my friends again\n",
      "25 I wmll never spam my friends again 【typo happens!】\n",
      "25 I will never spam my friends again\n",
      "26 I will never spam my friends again\n",
      "27 I will never spam my friends again\n",
      "28 I will never spam my friends again\n",
      "29 I will never spam my friends again\n",
      "30 I will never spam my friends again\n",
      "31 I wmll never spam my friends again 【typo happens!】\n",
      "31 I will never spam my friends again\n",
      "32 I will never spam my friends again\n",
      "33 I will never spam my friends again\n",
      "34 I will never spam my friends again\n",
      "35 I will never spam my friends again\n",
      "36 I will never spam my friends again\n",
      "37 I will never spam my friends again\n",
      "38 I will never spam my friends again\n",
      "39 I will never spam my friends again\n",
      "40 I will never spam my friends again\n",
      "41 I will never spam my friends again\n",
      "42 I wzll never spam my friends again 【typo happens!】\n",
      "42 I will never spam my friends again\n",
      "43 I will never spam my friends again\n",
      "44 I will never spam my friends again\n",
      "45 I will never spam my friends again\n",
      "46 I will never spam my friends again\n",
      "47 I will never spam my friends again\n",
      "48 I will never spam my friends again\n",
      "49 I will never spam my friends again\n",
      "50 I will never spam my friends again\n",
      "51 I will never spam my friends again\n",
      "52 I will never spam my friends again\n",
      "53 I will never spam my friends again\n",
      "54 I will never spam my friends again\n",
      "55 I will never spam my friends again\n",
      "56 I will never spam my friends again\n",
      "57 I will never spam my friends again\n",
      "58 I will never spam my friends again\n",
      "59 I will never spam my friends again\n",
      "60 I will never spam my friends again\n",
      "61 I will never sphm my friends again 【typo happens!】\n",
      "61 I will never spam my friends again\n",
      "62 I will never spam my friends again\n",
      "63 I will never spam my friends again\n",
      "64 I will never spam my friends again\n",
      "65 I will never spam my friends again\n",
      "66 I will never spam my friends again\n",
      "67 I will never spam my friends again\n",
      "68 I will never spam my friends again\n",
      "69 I will never spam my friends again\n",
      "70 I will never spam my friends again\n",
      "71 I will never spam my friends again\n",
      "72 I will never spam my friends again\n",
      "73 I will never spam my friends again\n",
      "74 I wlll never spam my friends again 【typo happens!】\n",
      "74 I will never spam my friends again\n",
      "75 I will never spam my friends again\n",
      "76 I will never spam my friends again\n",
      "77 I will never spam my friends again\n",
      "78 I will never spam my friends again\n",
      "79 I will never spam my friends again\n",
      "80 I will never spam my friends again\n",
      "81 I will never spam my friends again\n",
      "82 I will never spam my friends again\n",
      "83 I will never spam my friends again\n",
      "84 I will never spam my friends again\n",
      "85 I will never spam my friends again\n",
      "86 I will never spam my friends again\n",
      "87 I wpll never spam my friends again 【typo happens!】\n",
      "87 I will never spam my friends again\n",
      "88 I will never spam my friends again\n",
      "89 I will never spam my friends again\n",
      "90 Ibwill never spam my friends again 【typo happens!】\n",
      "90 I will never spam my friends again\n",
      "91 I will never spam my friends again\n",
      "92 I will never spam my friends again\n",
      "93 I will never spam my friends again\n",
      "94 I will never spam my friends again\n",
      "95 I will never spam my friends again\n",
      "96 I will never spam my friends again\n",
      "97 I will never spam my friends again\n",
      "98 I will never spam my friends again\n",
      "99 I will never spam my friends again\n",
      "100 I will never spam my friends again\n"
     ]
    }
   ],
   "source": [
    "\"\"\"假定拼写错误为某个字母拼错\"\"\"\n",
    "from random import sample,choice\n",
    "\n",
    "def punish_copy(sentence,times,typo_times):\n",
    "    typo_index = sample(range(times),typo_times)  # random choice some index for typo\n",
    "    for i in range(times):\n",
    "        if i in typo_index:\n",
    "            random_error_char = chr(choice(range(ord('a'),ord('z') + 1))) # \n",
    "            random_replace_char = choice(sentence)\n",
    "            sentence_new = sentence.replace(random_replace_char,random_error_char,1)\n",
    "            print(i + 1,sentence_new,'【typo happens!】')\n",
    "        print(i + 1,sentence)\n",
    "\n",
    "if __name__ == '__main__':\n",
    "    sentence = 'I will never spam my friends again'\n",
    "    times,typo_times = 100,8\n",
    "    punish_copy(sentence,times,typo_times)"
   ]
  },
  {
   "cell_type": "markdown",
   "metadata": {},
   "source": [
    ">相关知识点：\n",
    "- random模块中的choice为随机选择一个元素\n",
    "- ord('a')为a的ASCII码，ord('a')=97，ord('A')=65"
   ]
  },
  {
   "cell_type": "markdown",
   "metadata": {},
   "source": [
    "### P-1.35\n",
    "The birthday paradox says that the probability that two people in a room\n",
    "will have the same birthday is more than half, provided n, the number of\n",
    "people in the room, is more than 23. This property is not really a paradox,\n",
    "but many people find it surprising. Design a Python program that can test\n",
    "this paradox by a series of experiments on randomly generated birthdays,\n",
    "which test this paradox for n = 5,10,15,20,...,100.<br>\n",
    "译：生日驳论说，假设同一屋子里有n个人，当n大于23时，任意两个人同一天生日的可能性过半，\n",
    "这并不真的是一个驳论，但许多人会觉得这很奇妙，\n",
    "设计一个python程序，随机生成一系列的生日来测试这个驳论。\n",
    "测n = 5,10,15,20,… ,100。"
   ]
  },
  {
   "cell_type": "code",
   "execution_count": 168,
   "metadata": {},
   "outputs": [
    {
     "name": "stdout",
     "output_type": "stream",
     "text": [
      "when n = 5,the probability is 0%\n",
      "when n = 10,the probability is 14%\n",
      "when n = 15,the probability is 29%\n",
      "when n = 20,the probability is 43%\n",
      "when n = 25,the probability is 54%\n",
      "when n = 30,the probability is 73%\n",
      "when n = 35,the probability is 80%\n",
      "when n = 40,the probability is 89%\n",
      "when n = 45,the probability is 95%\n",
      "when n = 50,the probability is 96%\n",
      "when n = 55,the probability is 98%\n",
      "when n = 60,the probability is 99%\n",
      "when n = 65,the probability is 100%\n",
      "when n = 70,the probability is 100%\n",
      "when n = 75,the probability is 100%\n",
      "when n = 80,the probability is 100%\n",
      "when n = 85,the probability is 100%\n",
      "when n = 90,the probability is 100%\n",
      "when n = 95,the probability is 100%\n",
      "when n = 100,the probability is 100%\n"
     ]
    }
   ],
   "source": [
    "import random\n",
    "def repeat_nums(ls):\n",
    "    \"\"\" 存在相同元素的元素的比例 \"\"\"\n",
    "    repeat_nums = sum([1 for i in range(len(ls)) if ls[i] in ls[:i] + ls[i + 1:]])\n",
    "    return repeat_nums\n",
    "\n",
    "def same_bir_count(n):\n",
    "    \"\"\"n个人中，存在两人生日相同的比例\"\"\"\n",
    "    birthdays = random.choices(range(365), k = n)\n",
    "    return repeat_nums(birthdays)\n",
    "\n",
    "if __name__ == \"__main__\":\n",
    "    for n in range(5,105,5): # for n in 5,10,15...100，each test 100 times\n",
    "        count = sum([1 for i in range(100) if same_bir_count(n) > 0])\n",
    "        print(f'when n = {n},the probability is {count/100:.0%}')"
   ]
  },
  {
   "cell_type": "markdown",
   "metadata": {},
   "source": [
    ">相关知识点：\n",
    "- random模块中的choices为放回抽样（可重复抽样）\n",
    "- :.0% 为 string中的 [format标记格式符号]( https://www.python.org/dev/peps/pep-3101/#standard-format-specifiers)，在这里代表百分比"
   ]
  },
  {
   "cell_type": "markdown",
   "metadata": {},
   "source": [
    "### P-1.36\n",
    "Write a Python program that inputs a list of words, separated by white-\n",
    "space, and outputs how many times each word appears in the list. You\n",
    "need not worry about efficiency at this point, however, as this topic is\n",
    "something that will be addressed later in this book."
   ]
  }
 ],
 "metadata": {
  "kernelspec": {
   "display_name": "Python 3",
   "language": "python",
   "name": "python3"
  },
  "language_info": {
   "codemirror_mode": {
    "name": "ipython",
    "version": 3
   },
   "file_extension": ".py",
   "mimetype": "text/x-python",
   "name": "python",
   "nbconvert_exporter": "python",
   "pygments_lexer": "ipython3",
   "version": "3.7.3"
  }
 },
 "nbformat": 4,
 "nbformat_minor": 2
}
