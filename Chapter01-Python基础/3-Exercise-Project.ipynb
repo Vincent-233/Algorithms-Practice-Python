{
 "cells": [
  {
   "cell_type": "markdown",
   "metadata": {},
   "source": [
    "### P-1.29\n",
    "Write a Python program that outputs all possible strings formed by using\n",
    "the characters c , a , t , d , o , and g exactly once.<br>\n",
    "译：编写一个程序，返回所有由c、a、t、d、o、g这几个字母组成的字符串，每个字母均出现一次。"
   ]
  },
  {
   "cell_type": "markdown",
   "metadata": {},
   "source": [
    "解析：这实际上是一个全排列问题"
   ]
  },
  {
   "cell_type": "code",
   "execution_count": 65,
   "metadata": {},
   "outputs": [
    {
     "name": "stdout",
     "output_type": "stream",
     "text": [
      "720\n"
     ]
    }
   ],
   "source": [
    "# 穷举法\n",
    "result = []\n",
    "for a in ('catdog'):\n",
    "    for b in ('catdog'.replace(a,'')):\n",
    "        for c in ('catdog').replace(a,'').replace(b,''):\n",
    "            for d in ('catdog').replace(a,'').replace(b,'').replace(c,''):\n",
    "                for e in ('catdog').replace(a,'').replace(b,'').replace(c,'').replace(d,''):\n",
    "                    for f in ('catdog').replace(a,'').replace(b,'').replace(c,'').replace(d,'').replace(e,''):\n",
    "                        result.append(f'{a}{b}{c}{d}{e}{f}')\n",
    "# 结果个数, 6! = 720\n",
    "print(len(result))"
   ]
  },
  {
   "cell_type": "markdown",
   "metadata": {},
   "source": [
    "以上方法虽然可以达到效果，但局限也很明显，如果给的字母个数有变，程序需要调整，如果字母个数非常多，程序将变得难以阅读<br>\n",
    "下面采用递归算法，abc的全排列 = a+bc的全排列，b加ac的全排列，c加bc的全排列，依此类推<br>"
   ]
  },
  {
   "cell_type": "code",
   "execution_count": 102,
   "metadata": {},
   "outputs": [],
   "source": [
    "# 递归法\n",
    "def permutation_sub(prefix_str,suffix_str,result):\n",
    "    if len(suffix_str) == 1:\n",
    "        result.append(prefix_str + suffix_str)\n",
    "    for s in suffix_str:\n",
    "        permutation_sub(prefix_str + s, suffix_str.replace(s,''), result)\n",
    "\n",
    "def permutation(input_str):\n",
    "    \"\"\"假设input_str无重复字符\"\"\"\n",
    "    perm = []\n",
    "    permutation_sub('',input_str,perm)\n",
    "    return perm"
   ]
  },
  {
   "cell_type": "code",
   "execution_count": 104,
   "metadata": {},
   "outputs": [
    {
     "data": {
      "text/html": [
       "<div>\n",
       "<style scoped>\n",
       "    .dataframe tbody tr th:only-of-type {\n",
       "        vertical-align: middle;\n",
       "    }\n",
       "\n",
       "    .dataframe tbody tr th {\n",
       "        vertical-align: top;\n",
       "    }\n",
       "\n",
       "    .dataframe thead th {\n",
       "        text-align: right;\n",
       "    }\n",
       "</style>\n",
       "<table border=\"1\" class=\"dataframe\">\n",
       "  <thead>\n",
       "    <tr style=\"text-align: right;\">\n",
       "      <th></th>\n",
       "      <th>result</th>\n",
       "    </tr>\n",
       "  </thead>\n",
       "  <tbody>\n",
       "    <tr>\n",
       "      <th>0</th>\n",
       "      <td>catdog</td>\n",
       "    </tr>\n",
       "    <tr>\n",
       "      <th>1</th>\n",
       "      <td>catdgo</td>\n",
       "    </tr>\n",
       "    <tr>\n",
       "      <th>2</th>\n",
       "      <td>catodg</td>\n",
       "    </tr>\n",
       "    <tr>\n",
       "      <th>3</th>\n",
       "      <td>catogd</td>\n",
       "    </tr>\n",
       "    <tr>\n",
       "      <th>4</th>\n",
       "      <td>catgdo</td>\n",
       "    </tr>\n",
       "    <tr>\n",
       "      <th>...</th>\n",
       "      <td>...</td>\n",
       "    </tr>\n",
       "    <tr>\n",
       "      <th>715</th>\n",
       "      <td>godcta</td>\n",
       "    </tr>\n",
       "    <tr>\n",
       "      <th>716</th>\n",
       "      <td>godact</td>\n",
       "    </tr>\n",
       "    <tr>\n",
       "      <th>717</th>\n",
       "      <td>godatc</td>\n",
       "    </tr>\n",
       "    <tr>\n",
       "      <th>718</th>\n",
       "      <td>godtca</td>\n",
       "    </tr>\n",
       "    <tr>\n",
       "      <th>719</th>\n",
       "      <td>godtac</td>\n",
       "    </tr>\n",
       "  </tbody>\n",
       "</table>\n",
       "<p>720 rows × 1 columns</p>\n",
       "</div>"
      ],
      "text/plain": [
       "     result\n",
       "0    catdog\n",
       "1    catdgo\n",
       "2    catodg\n",
       "3    catogd\n",
       "4    catgdo\n",
       "..      ...\n",
       "715  godcta\n",
       "716  godact\n",
       "717  godatc\n",
       "718  godtca\n",
       "719  godtac\n",
       "\n",
       "[720 rows x 1 columns]"
      ]
     },
     "execution_count": 104,
     "metadata": {},
     "output_type": "execute_result"
    }
   ],
   "source": [
    "# 测试\n",
    "result = permutation('catdog')\n",
    "\n",
    "# 展现\n",
    "import pandas as pd\n",
    "df = pd.DataFrame({'result':result})\n",
    "pd.set_option(\"display.max_rows\",10)\n",
    "df"
   ]
  },
  {
   "cell_type": "markdown",
   "metadata": {},
   "source": [
    "### P-1.30\n",
    "Write a Python program that can take a positive integer greater than 2 as\n",
    "input and write out the number of times one must repeatedly divide this\n",
    "number by 2 before getting a value less than 2.<br>\n",
    "译：写一个python程序，给定一个大于2的正整数，然后不断除以2，输出在结果比2小之前，可被除的次数。"
   ]
  },
  {
   "cell_type": "markdown",
   "metadata": {},
   "source": [
    "解析：实际就是log2n - 1"
   ]
  },
  {
   "cell_type": "code",
   "execution_count": 118,
   "metadata": {},
   "outputs": [],
   "source": [
    "def divide_times_before_less_then_2(n):\n",
    "    if n < 2:\n",
    "        print('pls input a number great than 2')\n",
    "        return\n",
    "    i = 0\n",
    "    while n >= 4:\n",
    "        n /= 2\n",
    "        i += 1\n",
    "    return i"
   ]
  },
  {
   "cell_type": "code",
   "execution_count": 130,
   "metadata": {},
   "outputs": [
    {
     "name": "stdout",
     "output_type": "stream",
     "text": [
      "0 0\n",
      "2 2\n",
      "3 3\n",
      "4 4\n",
      "4 4\n",
      "5 5\n"
     ]
    }
   ],
   "source": [
    "# 测试\n",
    "import math\n",
    "for x in [3,9,16,32,45,87]:\n",
    "    print(divide_times_before_less_then_2(x), #  自己实现版本 \n",
    "          int(math.log2(x)) - 1)              # log2n - 1"
   ]
  }
 ],
 "metadata": {
  "kernelspec": {
   "display_name": "Python 3",
   "language": "python",
   "name": "python3"
  },
  "language_info": {
   "codemirror_mode": {
    "name": "ipython",
    "version": 3
   },
   "file_extension": ".py",
   "mimetype": "text/x-python",
   "name": "python",
   "nbconvert_exporter": "python",
   "pygments_lexer": "ipython3",
   "version": "3.7.3"
  }
 },
 "nbformat": 4,
 "nbformat_minor": 2
}
