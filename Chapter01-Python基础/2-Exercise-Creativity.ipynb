{
 "cells": [
  {
   "cell_type": "markdown",
   "metadata": {},
   "source": [
    "### C-1.13 \n",
    "Write a pseudo-code description of a function that reverses a list of n\n",
    "integers, so that the numbers are listed in the opposite order than they\n",
    "were before, and compare this method to an equivalent Python function\n",
    "for doing the same thing.<br>\n",
    "译：写一个反转列表的函数，不要用自带的list.reverse()"
   ]
  },
  {
   "cell_type": "code",
   "execution_count": 1,
   "metadata": {},
   "outputs": [],
   "source": [
    "# 方法一，迭代，返回新列表\n",
    "def list_reverse_1(my_list):\n",
    "    new_list = list(range(len(my_list)))\n",
    "    for i in range(len(my_list)):\n",
    "        new_list[i] = my_list[-(i+1)]\n",
    "    return new_list"
   ]
  },
  {
   "cell_type": "code",
   "execution_count": 2,
   "metadata": {},
   "outputs": [],
   "source": [
    "# 方法二，迭代，原地交换\n",
    "def list_reverse_2(my_list):\n",
    "    for i in range(len(my_list)//2):\n",
    "        my_list[i],my_list[-(i+1)] = my_list[-(i+1)],my_list[i]"
   ]
  },
  {
   "cell_type": "code",
   "execution_count": 3,
   "metadata": {},
   "outputs": [],
   "source": [
    "# 方法三，递归，返回新列表\n",
    "def list_reverse_3(my_list):\n",
    "    if len(my_list) == 0:\n",
    "        return []\n",
    "    return [my_list[-1]] + list_reverse_3(my_list[1:-1]) + [my_list[0]]"
   ]
  },
  {
   "cell_type": "code",
   "execution_count": 17,
   "metadata": {},
   "outputs": [],
   "source": [
    "# 方法四，递归，原地交换\n",
    "def list_reverse_4_sub(my_list, start ,end):\n",
    "    if start >= end:\n",
    "        return\n",
    "    my_list[start], my_list[end] = my_list[end], my_list[start]\n",
    "    list_reverse_4_sub(my_list, start + 1, end - 1)\n",
    "\n",
    "def list_reverse_4(my_list):\n",
    "    list_reverse_4_sub(my_list, 0, len(my_list) - 1)"
   ]
  },
  {
   "cell_type": "code",
   "execution_count": 5,
   "metadata": {},
   "outputs": [],
   "source": [
    "# 方法五， 反向迭代器\n",
    "def list_reverse_5(my_list):\n",
    "    return list(reversed(my_list))"
   ]
  },
  {
   "cell_type": "code",
   "execution_count": 6,
   "metadata": {},
   "outputs": [],
   "source": [
    "# 方法六，反向切片\n",
    "def list_reverse_6(my_list):\n",
    "    return my_list[-1::-1]"
   ]
  },
  {
   "cell_type": "markdown",
   "metadata": {},
   "source": [
    ">相关python基础知识：             \n",
    "1、python一切皆对象；           \n",
    "2、List是可变类型，支持原地更新数据，若为不可变类型，则所有修改都将返回一个新对象；     "
   ]
  },
  {
   "cell_type": "markdown",
   "metadata": {},
   "source": [
    "### C-1.14\n",
    "Write a short Python function that takes a sequence of integer values and\n",
    "determines if there is a distinct pair of numbers in the sequence whose\n",
    "product is odd<br>\n",
    "译：编写一个函数，输入一个整数List，判断是否存在两个数的乘积为奇数"
   ]
  },
  {
   "cell_type": "code",
   "execution_count": 7,
   "metadata": {},
   "outputs": [],
   "source": [
    "# 方法一，蛮力枚举，复杂度为 n 的平方\n",
    "def odd_product_1(nums):\n",
    "    for i in range(len(nums)):\n",
    "        for j in range(i + 1,len(nums)):\n",
    "            if nums[i] * nums[j] % 2 == 1:\n",
    "                return True\n",
    "    return False"
   ]
  },
  {
   "cell_type": "code",
   "execution_count": 8,
   "metadata": {},
   "outputs": [],
   "source": [
    "# 方法二，有2个及以上的奇数，即可满足条件\n",
    "def odd_product_2(nums):\n",
    "    odd_cnt = 0\n",
    "    for n in nums:\n",
    "        if n % 2 == 1:\n",
    "            odd_cnt += 1\n",
    "    return True if odd_cnt >= 2 else False"
   ]
  },
  {
   "cell_type": "code",
   "execution_count": 9,
   "metadata": {},
   "outputs": [],
   "source": [
    "# 方法三，原理同方法二，用推导式\n",
    "def odd_product_3(nums):\n",
    "    odd_cnt = sum([i % 2 for i in nums])\n",
    "    return True if odd_cnt >= 2 else False"
   ]
  },
  {
   "cell_type": "code",
   "execution_count": 10,
   "metadata": {},
   "outputs": [
    {
     "name": "stdout",
     "output_type": "stream",
     "text": [
      "[1, 2, 2, 2, 3] True\n",
      "[1, 2, 2, 2, 3] True\n",
      "[1, 2, 2, 2, 3] True\n"
     ]
    }
   ],
   "source": [
    "# 测试\n",
    "nums = [1,2,2,2,3]\n",
    "print(nums,odd_product_1(nums))\n",
    "print(nums,odd_product_2(nums))\n",
    "print(nums,odd_product_3(nums))"
   ]
  },
  {
   "cell_type": "markdown",
   "metadata": {},
   "source": [
    "### C-1.15\n",
    "Write a Python function that takes a sequence of numbers and determines\n",
    "if all the numbers are different from each other (that is, they are distinct).<br>\n",
    "译：写一函数，传入整数列表，判断其内是否有重复数据"
   ]
  },
  {
   "cell_type": "code",
   "execution_count": 11,
   "metadata": {},
   "outputs": [],
   "source": [
    "# 方法一，遍历枚举\n",
    "def is_unique_list_1(nums):\n",
    "    for i in range(len(nums)):\n",
    "        for j in range(i + 1,len(nums)):\n",
    "            if nums[i] == nums[j]:\n",
    "                return False\n",
    "    return True\n",
    "\n",
    "# 方法二，借用集合去重，再判断长度是否改变\n",
    "def is_unique_list_2(nums):\n",
    "    ls = set(nums)\n",
    "    return True if len(ls) == len(nums) else False"
   ]
  },
  {
   "cell_type": "code",
   "execution_count": 12,
   "metadata": {},
   "outputs": [
    {
     "name": "stdout",
     "output_type": "stream",
     "text": [
      "[1, 2, 3, 5, 6, 1, 8] False\n",
      "[1, 2, 3, 5, 6, 1, 8] False\n"
     ]
    }
   ],
   "source": [
    "nums = [1,2,3,5,6,1,8]\n",
    "print(nums,is_unique_list_1(nums))\n",
    "print(nums,is_unique_list_2(nums))"
   ]
  },
  {
   "cell_type": "markdown",
   "metadata": {},
   "source": [
    "### C-1.18\n",
    "Demonstrate how to use Python’s list comprehension syntax to produce\n",
    "the list [0, 2, 6, 12, 20, 30, 42, 56, 72, 90].<br>\n",
    "译：写一个列表推导式生成 [0, 2, 6, 12, 20, 30, 42, 56, 72, 90]."
   ]
  },
  {
   "cell_type": "code",
   "execution_count": 13,
   "metadata": {},
   "outputs": [
    {
     "name": "stdout",
     "output_type": "stream",
     "text": [
      "[0, 2, 6, 12, 20, 30, 42, 56, 72, 90]\n"
     ]
    }
   ],
   "source": [
    "print([i * (i + 1) for i in range(10)])"
   ]
  },
  {
   "cell_type": "markdown",
   "metadata": {},
   "source": [
    "### C-1.19\n",
    "Demonstrate how to use Python’s list comprehension syntax to produce\n",
    "the list [ a , b , c , ..., z ], but without having to type all 26 such\n",
    "characters literally.<br>\n",
    "译：写一个列表推导式生成[ a , b , c , ..., z ],不要一个个敲出来。"
   ]
  },
  {
   "cell_type": "code",
   "execution_count": 2,
   "metadata": {},
   "outputs": [
    {
     "name": "stdout",
     "output_type": "stream",
     "text": [
      "97\n",
      "a\n",
      "['a', 'b', 'c', 'd', 'e', 'f', 'g', 'h', 'i', 'j', 'k', 'l', 'm', 'n', 'o', 'p', 'q', 'r', 's', 't', 'u', 'v', 'w', 'x', 'y', 'z']\n",
      "['a', 'b', 'c', 'd', 'e', 'f', 'g', 'h', 'i', 'j', 'k', 'l', 'm', 'n', 'o', 'p', 'q', 'r', 's', 't', 'u', 'v', 'w', 'x', 'y', 'z']\n"
     ]
    }
   ],
   "source": [
    "# 查看a的ASCII码\n",
    "print(ord('a'))\n",
    "\n",
    "# ASCII码转字母\n",
    "print(chr(97))\n",
    "\n",
    "# 故推导式如下\n",
    "print([chr(i) for i in range(ord('a'),ord('a') + 26,1)]) # 或\n",
    "print([chr(ord('a') + i) for i in range(26)])"
   ]
  },
  {
   "cell_type": "markdown",
   "metadata": {},
   "source": [
    ">相关知识点：\n",
    "- chr()，从ASCII码转为正常字母<br>\n",
    "- ord()，从字母返回对应的ASCII码，如 ord('a')= 97"
   ]
  },
  {
   "cell_type": "markdown",
   "metadata": {},
   "source": [
    "### C-1.20 \n",
    "Python’s random module includes a function shuffle(data) that accepts a\n",
    "list of elements and randomly reorders the elements so that each possi-\n",
    "ble order occurs with equal probability. The random module includes a\n",
    "more basic function randint(a, b) that returns a uniformly random integer\n",
    "from a to b (including both endpoints). Using only the randint function,\n",
    "implement your own version of the shuffle function.<br>\n",
    "译：只用randint函数，模仿实现random库中的shuffle函数（随机排序）功能"
   ]
  },
  {
   "cell_type": "code",
   "execution_count": 46,
   "metadata": {},
   "outputs": [],
   "source": [
    "# 思路：从第1个到当前数之间，随机选一个元素，与当前数进行交换\n",
    "import random\n",
    "def my_shuffle(ls):\n",
    "    for i in range(len(ls)):\n",
    "        j = random.randint(0,i)\n",
    "        ls[i],ls[j] = ls[j],ls[i]  # swap ls[i] and ls[j]"
   ]
  },
  {
   "cell_type": "code",
   "execution_count": 76,
   "metadata": {},
   "outputs": [
    {
     "name": "stdout",
     "output_type": "stream",
     "text": [
      "[7, 8, 5, 3, 1, 6, 4, 2]\n",
      "[3, 7, 8, 6, 2, 4, 5, 1]\n"
     ]
    }
   ],
   "source": [
    "# 测试\n",
    "x = [1,2,3,4,5,6,7,8]\n",
    "random.shuffle(x)\n",
    "print(x)\n",
    "\n",
    "x = [1,2,3,4,5,6,7,8]\n",
    "my_shuffle(x)\n",
    "print(x)"
   ]
  },
  {
   "cell_type": "markdown",
   "metadata": {},
   "source": [
    "### C-1.21\n",
    "Write a Python program that repeatedly reads lines from standard input\n",
    "until an EOFError is raised, and then outputs those lines in reverse order\n",
    "(a user can indicate end of input by typing ctrl-C / CTRL-D.<br>\n",
    "译：写一个程序，一直接受从stdin的输入行，直到EOFERROR出现（按 CTRL-C / CTRL-D），然后逆序输出读取的行."
   ]
  },
  {
   "cell_type": "code",
   "execution_count": null,
   "metadata": {
    "scrolled": false
   },
   "outputs": [],
   "source": [
    "import sys\n",
    "\n",
    "buff = []\n",
    "try:\n",
    "    while True:\n",
    "        buff.append(sys.stdin.readline())\n",
    "except KeyboardInterrupt:\n",
    "   sys.stdout.flush()\n",
    "   pass\n",
    "\n",
    "buff.reverse()\n",
    "for line in buff:\n",
    "    print(line.strip())"
   ]
  },
  {
   "cell_type": "markdown",
   "metadata": {},
   "source": [
    ">注意：以上程序无法在Jupyter中运行，需保存为文件后，在命令终端中运行"
   ]
  }
 ],
 "metadata": {
  "kernelspec": {
   "display_name": "Python 3",
   "language": "python",
   "name": "python3"
  },
  "language_info": {
   "codemirror_mode": {
    "name": "ipython",
    "version": 3
   },
   "file_extension": ".py",
   "mimetype": "text/x-python",
   "name": "python",
   "nbconvert_exporter": "python",
   "pygments_lexer": "ipython3",
   "version": "3.7.3"
  }
 },
 "nbformat": 4,
 "nbformat_minor": 2
}
