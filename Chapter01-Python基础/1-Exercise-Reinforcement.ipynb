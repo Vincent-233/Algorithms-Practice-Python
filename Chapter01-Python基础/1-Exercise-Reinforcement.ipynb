{
 "cells": [
  {
   "cell_type": "markdown",
   "metadata": {},
   "source": [
    "### R-1.1 \n",
    "Write a short Python function, is multiple(n, m), that takes two integer\n",
    "values and returns True if n is a multiple of m, that is, n = mi for some\n",
    "integer i, and False otherwise.<br>\n",
    "译：写一函数multiple(n, m)，若n为m倍数则返回True，否则返回False"
   ]
  },
  {
   "cell_type": "code",
   "execution_count": 10,
   "metadata": {},
   "outputs": [],
   "source": [
    "# 函数\n",
    "def multiple(n, m):\n",
    "    if n % m == 0:\n",
    "        return True\n",
    "    return False"
   ]
  },
  {
   "cell_type": "code",
   "execution_count": null,
   "metadata": {},
   "outputs": [],
   "source": [
    "# 测试\n",
    "for i in range(20):\n",
    "    if multiple(20, i + 1):\n",
    "        print(i + 1)"
   ]
  },
  {
   "cell_type": "code",
   "execution_count": 13,
   "metadata": {},
   "outputs": [
    {
     "name": "stdout",
     "output_type": "stream",
     "text": [
      "[1, 2, 4, 5, 10, 20]\n"
     ]
    }
   ],
   "source": [
    "# 以上测试代码换为列表推导式\n",
    "x = [i + 1 for i in range(20) if multiple(20,i + 1)]\n",
    "print(x)"
   ]
  },
  {
   "cell_type": "markdown",
   "metadata": {},
   "source": [
    "### R-1.2 \n",
    " Write a short Python function, is_even(k), that takes an integer value and\n",
    "returns True if k is even, and False otherwise. However, your function\n",
    "cannot use the multiplication, modulo, or division operators.<br>\n",
    "译：写个函数，判断一个整数K是否为偶数，不能用乘法、除法、取模操作符。<br>"
   ]
  },
  {
   "cell_type": "code",
   "execution_count": 4,
   "metadata": {},
   "outputs": [],
   "source": [
    "# 既然不能用数学操作符号，只好用尾数是否为0、2、4、6、8来枚举判断了\n",
    "def is_even_1(k):\n",
    "    if str(k)[-1] in ('0','2','4','6','8'):\n",
    "        return True\n",
    "    return False\n",
    "\n",
    "# 与1进行与位运行，为0则为偶数\n",
    "def is_even_2(k):\n",
    "    return (k & 1 == 0)"
   ]
  },
  {
   "cell_type": "code",
   "execution_count": 9,
   "metadata": {},
   "outputs": [
    {
     "name": "stdout",
     "output_type": "stream",
     "text": [
      "[2, 4, 6, 8, 10, 12, 14, 16, 18, 20]\n",
      "[2, 4, 6, 8, 10, 12, 14, 16, 18, 20]\n"
     ]
    }
   ],
   "source": [
    "# 测试，返回20以内所以偶数\n",
    "x = [i + 1 for i in range(20) if is_even_1(i + 1)]\n",
    "print(x)\n",
    "\n",
    "x = [i + 1 for i in range(20) if is_even_2(i + 1)]\n",
    "print(x)"
   ]
  },
  {
   "cell_type": "markdown",
   "metadata": {},
   "source": [
    "### R-1.3 \n",
    "Write a short Python function, minmax(data), that takes a sequence of\n",
    "one or more numbers, and returns the smallest and largest numbers, in the\n",
    "form of a tuple of length two. Do not use the built-in functions min or\n",
    "max in implementing your solution.<br>\n",
    "译：写一个函数，输入一个数字列表，以元组形式返回最大值和最小值，不用内置min和max函数."
   ]
  },
  {
   "cell_type": "code",
   "execution_count": 10,
   "metadata": {},
   "outputs": [],
   "source": [
    "def get_min_max(ls):\n",
    "    min,max = ls[0],ls[0]\n",
    "    for i in ls[1:]:\n",
    "        if i > max:\n",
    "            max = i\n",
    "        if i < min:\n",
    "            min = i\n",
    "    return min,max"
   ]
  },
  {
   "cell_type": "code",
   "execution_count": 21,
   "metadata": {},
   "outputs": [
    {
     "data": {
      "text/plain": [
       "(-6, 117)"
      ]
     },
     "execution_count": 21,
     "metadata": {},
     "output_type": "execute_result"
    }
   ],
   "source": [
    "# 测试\n",
    "ls = [-4,101,5,117,2,-6,89,9,-1,100]\n",
    "get_min_max(ls)"
   ]
  },
  {
   "cell_type": "markdown",
   "metadata": {},
   "source": [
    "### R-1.4  \n",
    "Write a short Python function that takes a positive integer n and returns\n",
    "the sum of the squares of all the positive integers smaller than n.<br>\n",
    "译：写一函数，接受正整数n，返回所有小于n的正整数的平方和."
   ]
  },
  {
   "cell_type": "code",
   "execution_count": 30,
   "metadata": {},
   "outputs": [],
   "source": [
    "def less_square_sum(n):\n",
    "    sum = 0\n",
    "    for i in range(1,n):\n",
    "        sum += i**2\n",
    "    return sum"
   ]
  },
  {
   "cell_type": "code",
   "execution_count": 33,
   "metadata": {},
   "outputs": [
    {
     "data": {
      "text/plain": [
       "30"
      ]
     },
     "execution_count": 33,
     "metadata": {},
     "output_type": "execute_result"
    }
   ],
   "source": [
    "# 测试\n",
    "n = 5\n",
    "less_square_sum(n)"
   ]
  },
  {
   "cell_type": "markdown",
   "metadata": {},
   "source": [
    "### R-1.5\n",
    "Give a single command that computes the sum from Exercise R-1.4, rely-\n",
    "ing on Python’s comprehension syntax and the built-in sum function.<br>\n",
    "译:用列表推导式实现1.4的需求."
   ]
  },
  {
   "cell_type": "code",
   "execution_count": 34,
   "metadata": {},
   "outputs": [
    {
     "data": {
      "text/plain": [
       "30"
      ]
     },
     "execution_count": 34,
     "metadata": {},
     "output_type": "execute_result"
    }
   ],
   "source": [
    "n = 5\n",
    "sum([i**2 for i in range(1,n)])"
   ]
  },
  {
   "cell_type": "markdown",
   "metadata": {},
   "source": [
    "### R-1.6  \n",
    "Write a short Python function that takes a positive integer n and returns\n",
    "the sum of the squares of all the odd positive integers smaller than n.<br>\n",
    "译：写一个函数，给定正整数n，返回所有小于n的奇数的平方和"
   ]
  },
  {
   "cell_type": "code",
   "execution_count": 36,
   "metadata": {},
   "outputs": [],
   "source": [
    "def odd_square_sum(n):\n",
    "    sum = 0\n",
    "    for i in range(n):\n",
    "        if i%2 == 1:\n",
    "            sum += i**2\n",
    "    return sum"
   ]
  },
  {
   "cell_type": "code",
   "execution_count": 41,
   "metadata": {},
   "outputs": [
    {
     "name": "stdout",
     "output_type": "stream",
     "text": [
      "Wall time: 977 µs\n"
     ]
    },
    {
     "data": {
      "text/plain": [
       "313179945"
      ]
     },
     "execution_count": 41,
     "metadata": {},
     "output_type": "execute_result"
    }
   ],
   "source": [
    "%%time\n",
    "odd_square_sum(1234)"
   ]
  },
  {
   "cell_type": "markdown",
   "metadata": {},
   "source": [
    "### R-1.7  \n",
    "Give a single command that computes the sum from Exercise R-1.6, rely-\n",
    "ing on Python’s comprehension syntax and the built-in sum function.<br>\n",
    "译：利用python的列表推导式和内置sum函数，完成1.6的练习。"
   ]
  },
  {
   "cell_type": "code",
   "execution_count": 42,
   "metadata": {},
   "outputs": [
    {
     "name": "stdout",
     "output_type": "stream",
     "text": [
      "Wall time: 976 µs\n"
     ]
    },
    {
     "data": {
      "text/plain": [
       "313179945"
      ]
     },
     "execution_count": 42,
     "metadata": {},
     "output_type": "execute_result"
    }
   ],
   "source": [
    "%%time\n",
    "sum([i**2 for i in range(1234) if i%2 == 1])"
   ]
  },
  {
   "cell_type": "markdown",
   "metadata": {},
   "source": [
    "### R-1.9 - R-1.11 \n",
    "- 【1.9】What parameters should be sent to the range constructor, to produce a\n",
    "range with values 50, 60, 70, 80?\n",
    "- 【1.0】What parameters should be sent to the range constructor, to produce a\n",
    "range with values 8, 6, 4, 2, 0, −2, −4, −6, −8?\n",
    "- 【1.11】Demonstrate how to use Python’s list comprehension syntax to produce\n",
    "the list [1, 2, 4, 8, 16, 32, 64, 128, 256]."
   ]
  },
  {
   "cell_type": "code",
   "execution_count": 44,
   "metadata": {},
   "outputs": [
    {
     "name": "stdout",
     "output_type": "stream",
     "text": [
      "[50, 60, 70, 80]\n",
      "[8, 6, 4, 2, 0, -2, -4, -6, -8]\n",
      "[1, 2, 4, 8, 16, 32, 64, 128, 256]\n"
     ]
    }
   ],
   "source": [
    "# 【1.9】81 可改为大于 80 的任何数\n",
    "print([x for x in range(50,81,10)])\n",
    "\n",
    "# 【1.0】-9 可改为小于-8的任意数\n",
    "print([x for x in range(8,-9,-2)])\n",
    "\n",
    "# 【1.11】 ** 乘方\n",
    "print([2**x for x in range(9)])"
   ]
  },
  {
   "cell_type": "markdown",
   "metadata": {},
   "source": [
    "### R-1.12  \n",
    "Python’s random module includes a function choice(data) that returns a\n",
    "random element from a non-empty sequence. The random module in-\n",
    "cludes a more basic function randrange, with parameterization similar to\n",
    "the built-in range function, that return a random choice from the given\n",
    "range. Using only the randrange function, implement your own version\n",
    "of the choice function.<br>\n",
    "译：用random库中的rangerange实现choice()函数"
   ]
  },
  {
   "cell_type": "code",
   "execution_count": 104,
   "metadata": {},
   "outputs": [],
   "source": [
    "import random\n",
    "def my_choice(ls):\n",
    "    return ls[random.randrange(0,len(ls))]"
   ]
  },
  {
   "cell_type": "code",
   "execution_count": 105,
   "metadata": {},
   "outputs": [
    {
     "name": "stdout",
     "output_type": "stream",
     "text": [
      "88\n",
      "17\n"
     ]
    }
   ],
   "source": [
    "# 测试\n",
    "x = list(range(100))\n",
    "print(random.choice(x))\n",
    "print(my_choice(x))"
   ]
  }
 ],
 "metadata": {
  "kernelspec": {
   "display_name": "Python 3",
   "language": "python",
   "name": "python3"
  },
  "language_info": {
   "codemirror_mode": {
    "name": "ipython",
    "version": 3
   },
   "file_extension": ".py",
   "mimetype": "text/x-python",
   "name": "python",
   "nbconvert_exporter": "python",
   "pygments_lexer": "ipython3",
   "version": "3.7.3"
  }
 },
 "nbformat": 4,
 "nbformat_minor": 2
}
