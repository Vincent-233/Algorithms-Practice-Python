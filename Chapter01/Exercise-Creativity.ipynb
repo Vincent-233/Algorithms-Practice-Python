{
 "cells": [
  {
   "cell_type": "markdown",
   "metadata": {},
   "source": [
    "**1.13** Write a pseudo-code description of a function that reverses a list of n\n",
    "integers, so that the numbers are listed in the opposite order than they\n",
    "were before, and compare this method to an equivalent Python function\n",
    "for doing the same thing.<br>\n",
    "译：写一个反转列表的函数，不用自带的list.reverse()"
   ]
  },
  {
   "cell_type": "code",
   "execution_count": 5,
   "metadata": {},
   "outputs": [],
   "source": [
    "# 方法一，迭代，返回新列表\n",
    "def list_reverse_1(my_list):\n",
    "    new_list = list(range(len(my_list)))\n",
    "    for i in range(len(my_list)):\n",
    "        new_list[i] = my_list[-(i+1)]\n",
    "    return new_list"
   ]
  },
  {
   "cell_type": "code",
   "execution_count": 24,
   "metadata": {},
   "outputs": [],
   "source": [
    "# 方法二，迭代，原地交换\n",
    "def list_reverse_2(my_list):\n",
    "    for i in range(len(my_list)//2):\n",
    "        my_list[i],my_list[-(i+1)] = my_list[-(i+1)],my_list[i]"
   ]
  },
  {
   "cell_type": "code",
   "execution_count": 75,
   "metadata": {},
   "outputs": [],
   "source": [
    "# 方法三，递归，返回新列表\n",
    "def list_reverse_3(my_list):\n",
    "    if len(my_list) == 0:\n",
    "        return []\n",
    "    return [my_list[-1]] + list_reverse_3(my_list[1:-1]) + [my_list[0]]"
   ]
  },
  {
   "cell_type": "code",
   "execution_count": 139,
   "metadata": {},
   "outputs": [],
   "source": [
    "# 方法四，递归，原地交换\n",
    "def list_reverse_4_sub(my_list, start ,end):\n",
    "    if start >= end:\n",
    "        return\n",
    "    my_list[start], my_list[end] = my_list[end], my_list[start]\n",
    "    list_reverse_sub(my_list, start + 1, end - 1)\n",
    "\n",
    "def list_reverse_4(my_list):\n",
    "    list_reverse_4_sub(my_list, 0, len(my_list) - 1)"
   ]
  },
  {
   "cell_type": "code",
   "execution_count": 153,
   "metadata": {},
   "outputs": [],
   "source": [
    "# 方法五， 反向迭代器\n",
    "def list_reverse_5(my_list):\n",
    "    return list(reversed(my_list))"
   ]
  },
  {
   "cell_type": "code",
   "execution_count": 152,
   "metadata": {},
   "outputs": [],
   "source": [
    "# 方法六，反向切片\n",
    "def list_reverse_6(my_list):\n",
    "    return my_list[-1::-1]"
   ]
  },
  {
   "cell_type": "markdown",
   "metadata": {},
   "source": [
    "相关python基础知识：             \n",
    "1、python一切皆对象；           \n",
    "2、List是可变类型，支持原地更新数据，若为不可变类型，则所有修改都将返回一个新对象；     "
   ]
  },
  {
   "cell_type": "markdown",
   "metadata": {},
   "source": [
    "**1.14** Write a short Python function that takes a sequence of integer values and\n",
    "determines if there is a distinct pair of numbers in the sequence whose\n",
    "product is odd<br>\n",
    "译：编写一个函数，输入一个整数List，判断是否存在两个数的乘积为奇数"
   ]
  },
  {
   "cell_type": "code",
   "execution_count": 210,
   "metadata": {},
   "outputs": [],
   "source": [
    "# 方法一，蛮力枚举，复杂度为 n 的平方\n",
    "def odd_product_1(nums):\n",
    "    for i in range(len(nums)):\n",
    "        for j in range(i + 1,len(nums)):\n",
    "            if nums[i] * nums[j] % 2 == 1:\n",
    "                return True\n",
    "    return False"
   ]
  },
  {
   "cell_type": "code",
   "execution_count": 211,
   "metadata": {},
   "outputs": [],
   "source": [
    "# 方法二，有2个及以上的奇数，即可满足条件\n",
    "def odd_product_2(nums):\n",
    "    odd_cnt = 0\n",
    "    for n in nums:\n",
    "        if n % 2 == 1:\n",
    "            odd_cnt += 1\n",
    "    return True if odd_cnt >= 2 else False"
   ]
  },
  {
   "cell_type": "code",
   "execution_count": 212,
   "metadata": {},
   "outputs": [],
   "source": [
    "# 方法三，原理同方法二，用推导式\n",
    "def odd_product_3(nums):\n",
    "    odd_cnt = sum([i % 2 for i in nums])\n",
    "    return True if odd_cnt >= 2 else False"
   ]
  },
  {
   "cell_type": "code",
   "execution_count": 216,
   "metadata": {},
   "outputs": [
    {
     "name": "stdout",
     "output_type": "stream",
     "text": [
      "[1, 2, 2, 2, 3] True\n",
      "[1, 2, 2, 2, 3] True\n",
      "[1, 2, 2, 2, 3] True\n"
     ]
    }
   ],
   "source": [
    "# 测试\n",
    "nums = [1,2,2,2,3]\n",
    "print(nums,odd_product_1(nums))\n",
    "print(nums,odd_product_2(nums))\n",
    "print(nums,odd_product_3(nums))"
   ]
  },
  {
   "cell_type": "markdown",
   "metadata": {},
   "source": [
    "**1.15**  Write a Python function that takes a sequence of numbers and determines\n",
    "if all the numbers are different from each other (that is, they are distinct).<br>\n",
    "译：写一函数，传入整数列表，判断其内是否有重复数据"
   ]
  },
  {
   "cell_type": "code",
   "execution_count": 220,
   "metadata": {},
   "outputs": [],
   "source": [
    "# 方法一，遍历枚举\n",
    "def is_unique_list_1(nums):\n",
    "    for i in range(len(nums)):\n",
    "        for j in range(i + 1,len(nums)):\n",
    "            if nums[i] == nums[j]:\n",
    "                return False\n",
    "    return True\n",
    "\n",
    "# 方法二，借用集合去重，再判断长度是否改变\n",
    "def is_unique_list_2(nums):\n",
    "    ls = set(nums)\n",
    "    return True if len(ls) == len(nums) else False"
   ]
  },
  {
   "cell_type": "code",
   "execution_count": 222,
   "metadata": {},
   "outputs": [
    {
     "name": "stdout",
     "output_type": "stream",
     "text": [
      "[1, 2, 3, 5, 6, 1, 8] False\n",
      "[1, 2, 3, 5, 6, 1, 8] False\n"
     ]
    }
   ],
   "source": [
    "nums = [1,2,3,5,6,1,8]\n",
    "print(nums,is_unique_list_1(nums))\n",
    "print(nums,is_unique_list_2(nums))"
   ]
  },
  {
   "cell_type": "markdown",
   "metadata": {},
   "source": [
    "**1.18** Demonstrate how to use Python’s list comprehension syntax to produce\n",
    "the list [0, 2, 6, 12, 20, 30, 42, 56, 72, 90]."
   ]
  },
  {
   "cell_type": "code",
   "execution_count": 227,
   "metadata": {},
   "outputs": [
    {
     "name": "stdout",
     "output_type": "stream",
     "text": [
      "[0, 2, 6, 12, 20, 30, 42, 56, 72, 90]\n"
     ]
    }
   ],
   "source": [
    "print([i * (i + 1) for i in range(10)])"
   ]
  },
  {
   "cell_type": "markdown",
   "metadata": {},
   "source": [
    "**1.19** Demonstrate how to use Python’s list comprehension syntax to produce\n",
    "the list [ a , b , c , ..., z ], but without having to type all 26 such\n",
    "characters literally."
   ]
  },
  {
   "cell_type": "code",
   "execution_count": null,
   "metadata": {},
   "outputs": [],
   "source": [
    "print(chr(97))\n",
    "print(ord('a'))\n",
    "[chr(i) for i in range(97,97+26,1)]"
   ]
  },
  {
   "cell_type": "markdown",
   "metadata": {},
   "source": [
    "chr()，从ASCII码转为正常字母<br>\n",
    "ord()，从字母返回对应的ASCII码，如 ord('a')= 97"
   ]
  },
  {
   "cell_type": "markdown",
   "metadata": {},
   "source": [
    "### 临时测试"
   ]
  },
  {
   "cell_type": "code",
   "execution_count": 143,
   "metadata": {},
   "outputs": [
    {
     "data": {
      "text/plain": [
       "[8, 7, 6, 5, 4, 3, 2, 1]"
      ]
     },
     "execution_count": 143,
     "metadata": {},
     "output_type": "execute_result"
    }
   ],
   "source": [
    "x = [1,2,3,4,5,6,7,8]\n",
    "list_reverse_4(x)\n",
    "x"
   ]
  },
  {
   "cell_type": "code",
   "execution_count": 130,
   "metadata": {},
   "outputs": [
    {
     "name": "stdout",
     "output_type": "stream",
     "text": [
      "[2, 3, 4, 5]\n",
      "[]\n",
      "[2]\n"
     ]
    }
   ],
   "source": [
    "x = [1,2,3,4,5,6,7,8]\n",
    "y = [1,2]\n",
    "print(x[1:-3])\n",
    "print(y[1:-1])\n",
    "print(x[1:2])"
   ]
  },
  {
   "cell_type": "code",
   "execution_count": 111,
   "metadata": {},
   "outputs": [
    {
     "data": {
      "text/plain": [
       "[8, 7, 6, 5, 4, 3, 2, 1]"
      ]
     },
     "execution_count": 111,
     "metadata": {},
     "output_type": "execute_result"
    }
   ],
   "source": [
    "list_reverse_4(x)\n",
    "x"
   ]
  },
  {
   "cell_type": "code",
   "execution_count": 117,
   "metadata": {},
   "outputs": [
    {
     "name": "stdout",
     "output_type": "stream",
     "text": [
      "2414611228424 2414611227272 140730212044000\n"
     ]
    }
   ],
   "source": [
    "a = [1,2,3]\n",
    "b = [4,5]\n",
    "c = a.append(b)\n",
    "print(id(a),id(b),id(c))"
   ]
  },
  {
   "cell_type": "code",
   "execution_count": 114,
   "metadata": {},
   "outputs": [
    {
     "name": "stdout",
     "output_type": "stream",
     "text": [
      "2414611077512\n"
     ]
    }
   ],
   "source": [
    "print(id(a))"
   ]
  },
  {
   "cell_type": "code",
   "execution_count": 138,
   "metadata": {},
   "outputs": [
    {
     "name": "stdout",
     "output_type": "stream",
     "text": [
      "[8, 7, 6, 5, 4, 3, 2, 1]\n",
      "[8, 7, 6, 5, 4, 3, 2, 1]\n"
     ]
    }
   ],
   "source": [
    "print(list(reversed(x)))\n",
    "print(x[-1::-1])"
   ]
  },
  {
   "cell_type": "code",
   "execution_count": 151,
   "metadata": {},
   "outputs": [
    {
     "name": "stdout",
     "output_type": "stream",
     "text": [
      "[8, 7, 6, 5, 4, 3, 2, 1]\n"
     ]
    }
   ],
   "source": [
    "x.reverse()\n",
    "print(x)"
   ]
  }
 ],
 "metadata": {
  "kernelspec": {
   "display_name": "Python 3",
   "language": "python",
   "name": "python3"
  },
  "language_info": {
   "codemirror_mode": {
    "name": "ipython",
    "version": 3
   },
   "file_extension": ".py",
   "mimetype": "text/x-python",
   "name": "python",
   "nbconvert_exporter": "python",
   "pygments_lexer": "ipython3",
   "version": "3.7.3"
  }
 },
 "nbformat": 4,
 "nbformat_minor": 2
}
